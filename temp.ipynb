{
 "metadata": {
  "language_info": {
   "codemirror_mode": {
    "name": "ipython",
    "version": 3
   },
   "file_extension": ".py",
   "mimetype": "text/x-python",
   "name": "python",
   "nbconvert_exporter": "python",
   "pygments_lexer": "ipython3",
   "version": "3.7.1-final"
  },
  "orig_nbformat": 2,
  "kernelspec": {
   "name": "python3",
   "display_name": "Python 3",
   "language": "python"
  }
 },
 "nbformat": 4,
 "nbformat_minor": 2,
 "cells": [
  {
   "cell_type": "code",
   "execution_count": null,
   "metadata": {},
   "outputs": [],
   "source": [
    "9+0"
   ]
  },
  {
   "cell_type": "code",
   "execution_count": null,
   "metadata": {},
   "outputs": [],
   "source": [
    "8+9"
   ]
  },
  {
   "cell_type": "code",
   "execution_count": 1,
   "metadata": {},
   "outputs": [
    {
     "output_type": "stream",
     "name": "stdout",
     "text": [
      "Yes\n"
     ]
    }
   ],
   "source": [
    "import sys\n",
    "import math\n",
    "\n",
    "\n",
    "# Auto-generated code below aims at helping you parse\n",
    "# the standard input according to the problem statement.\n",
    "\n",
    "t = input().lower()\n",
    "\n",
    "# Write an answer using print\n",
    "# To debug: print(\"Debug messages...\", file=sys.stderr, flush=True)\n",
    "\n",
    "def ispolindrome(s):\n",
    "    s = ''.join(s.split())\n",
    "    return s == s[::-1]\n",
    " \n",
    "if ispolindrome(t):\n",
    "     print(\"Yes\")\n",
    "else:\n",
    "    print(\"No\")"
   ]
  },
  {
   "cell_type": "code",
   "execution_count": null,
   "metadata": {},
   "outputs": [],
   "source": [
    "9+5\n",
    "\n"
   ]
  },
  {
   "cell_type": "code",
   "execution_count": null,
   "metadata": {},
   "outputs": [],
   "source": [
    "9\n",
    "+0"
   ]
  },
  {
   "cell_type": "code",
   "execution_count": null,
   "metadata": {},
   "outputs": [],
   "source": [
    "def fibbonacci(n):\n",
    "    if n == 0:\n",
    "        return 0\n",
    "    elif n == 1:\n",
    "        return 1\n",
    "    else:\n",
    "        return fibbonacci(n-1) + fibbonacci(n-2)\n",
    "fibbonacci(5)"
   ]
  },
  {
   "cell_type": "code",
   "execution_count": null,
   "metadata": {},
   "outputs": [],
   "source": [
    "fibbonacci(5)"
   ]
  },
  {
   "cell_type": "code",
   "execution_count": null,
   "metadata": {},
   "outputs": [],
   "source": [
    "def factorial(x):\n",
    "    if x==1:\n",
    "        return 1\n",
    "    else:\n",
    "        return x*factorial(x-1)\n",
    "factorial(5)"
   ]
  },
  {
   "cell_type": "code",
   "execution_count": null,
   "metadata": {},
   "outputs": [],
   "source": [
    "def short_function(x):\n",
    "    return x*2\n",
    "equiv_anon=lambda x: x*2\n"
   ]
  },
  {
   "cell_type": "code",
   "execution_count": null,
   "metadata": {},
   "outputs": [],
   "source": [
    "short_function(2)"
   ]
  },
  {
   "cell_type": "code",
   "execution_count": null,
   "metadata": {},
   "outputs": [],
   "source": [
    "equiv_anon(2)"
   ]
  },
  {
   "cell_type": "code",
   "execution_count": null,
   "metadata": {},
   "outputs": [],
   "source": [
    "def apply_to_list(some_list,f):\n",
    "    return [f(x) for x in some_list ]"
   ]
  },
  {
   "cell_type": "code",
   "execution_count": null,
   "metadata": {},
   "outputs": [],
   "source": [
    "ints=[2,23,23,1]\n",
    "apply_to_list(ints,equiv_anon)"
   ]
  },
  {
   "cell_type": "code",
   "execution_count": null,
   "metadata": {},
   "outputs": [],
   "source": [
    "strings=[\"foo\",\"arf\",\"aaaa\",\"EFD\"]\n",
    "strings.sort(key=lambda x:len(set(list(x))))"
   ]
  },
  {
   "cell_type": "code",
   "execution_count": null,
   "metadata": {},
   "outputs": [],
   "source": [
    "strings"
   ]
  },
  {
   "cell_type": "code",
   "execution_count": null,
   "metadata": {},
   "outputs": [],
   "source": [
    "sum = lambda agv1,agv2: agv1+agv2"
   ]
  },
  {
   "cell_type": "code",
   "execution_count": null,
   "metadata": {},
   "outputs": [],
   "source": [
    "print(\"value\",sum(10,20))"
   ]
  },
  {
   "cell_type": "code",
   "execution_count": null,
   "metadata": {},
   "outputs": [],
   "source": [
    "#Currying\n",
    "def add_numbers(x,y):\n",
    "    return x+y\n"
   ]
  },
  {
   "cell_type": "code",
   "execution_count": null,
   "metadata": {},
   "outputs": [],
   "source": [
    "#currying the 'y' variable\n",
    "z=lambda y:add_numbers(5,y)\n",
    "# here y is variable is curried"
   ]
  },
  {
   "cell_type": "code",
   "execution_count": null,
   "metadata": {},
   "outputs": [],
   "source": [
    "z(5)"
   ]
  },
  {
   "cell_type": "code",
   "execution_count": null,
   "metadata": {},
   "outputs": [],
   "source": [
    "from functools import partial\n",
    "a=partial(add_numbers,5)\n"
   ]
  },
  {
   "cell_type": "code",
   "execution_count": null,
   "metadata": {},
   "outputs": [],
   "source": [
    "a(2)"
   ]
  },
  {
   "cell_type": "code",
   "execution_count": null,
   "metadata": {},
   "outputs": [],
   "source": [
    "#Generators means it is a function that will give the output on which it is a iterating on a demand.\n"
   ]
  },
  {
   "cell_type": "code",
   "execution_count": null,
   "metadata": {},
   "outputs": [],
   "source": [
    "some_dict = {'a':1,'b':2,'c':3}\n",
    "for key,values in some_dict.items():\n",
    "    print(key,values)\n",
    "\n"
   ]
  },
  {
   "cell_type": "code",
   "execution_count": null,
   "metadata": {},
   "outputs": [],
   "source": [
    "dict_iterate_keys=iter(some_dict)"
   ]
  },
  {
   "cell_type": "code",
   "execution_count": null,
   "metadata": {},
   "outputs": [],
   "source": [
    "dict_iterate_keys"
   ]
  },
  {
   "cell_type": "code",
   "execution_count": null,
   "metadata": {},
   "outputs": [],
   "source": [
    "dict_iterate_vals=iter(some_dict.values())"
   ]
  },
  {
   "cell_type": "code",
   "execution_count": null,
   "metadata": {},
   "outputs": [],
   "source": [
    "dict_iterate_vals"
   ]
  },
  {
   "cell_type": "code",
   "execution_count": null,
   "metadata": {},
   "outputs": [],
   "source": [
    "list(dict_iterate_keys)"
   ]
  },
  {
   "cell_type": "code",
   "execution_count": null,
   "metadata": {},
   "outputs": [],
   "source": [
    "for x in dict_iterate_keys:\n",
    "    print(x)"
   ]
  },
  {
   "cell_type": "code",
   "execution_count": null,
   "metadata": {},
   "outputs": [],
   "source": [
    "#Generators means it is a function that will give the output on which it is a iterating on a demand.\n",
    "# generators  returns a sequences of multiple values or results lazily,pausing after each one until next one is requested\n",
    "#for using generator we will use yield instead of return "
   ]
  },
  {
   "cell_type": "code",
   "execution_count": null,
   "metadata": {},
   "outputs": [],
   "source": [
    "def squares(n=10):\n",
    "    print(\"squares numberes from 1 to {0}\".format(n**2))\n",
    "    for i in range(1,n+1):\n",
    "        yield i**2\n",
    "        "
   ]
  },
  {
   "cell_type": "code",
   "execution_count": null,
   "metadata": {},
   "outputs": [],
   "source": [
    "gen=squares()\n",
    "gen"
   ]
  },
  {
   "cell_type": "code",
   "execution_count": null,
   "metadata": {},
   "outputs": [],
   "source": [
    "for x in gen:\n",
    "    print(x,end=' ')"
   ]
  },
  {
   "cell_type": "code",
   "execution_count": null,
   "metadata": {},
   "outputs": [],
   "source": [
    "for x in gen:\n",
    "    print(x)"
   ]
  },
  {
   "cell_type": "code",
   "execution_count": null,
   "metadata": {},
   "outputs": [],
   "source": [
    "#generators expressions it is same as list,dict,set comprehensions\n",
    "# to create one we have to enclose the data in parenthesis instead of brackets"
   ]
  },
  {
   "cell_type": "code",
   "execution_count": null,
   "metadata": {},
   "outputs": [],
   "source": []
  },
  {
   "cell_type": "code",
   "execution_count": null,
   "metadata": {},
   "outputs": [],
   "source": [
    "gen=(i**2 for i in range(100))"
   ]
  },
  {
   "cell_type": "code",
   "execution_count": null,
   "metadata": {},
   "outputs": [],
   "source": [
    "def _make_gen():\n",
    "    for x in range(100):\n",
    "        yield x**2"
   ]
  },
  {
   "cell_type": "code",
   "execution_count": null,
   "metadata": {},
   "outputs": [],
   "source": [
    "gen=_make_gen()"
   ]
  },
  {
   "cell_type": "code",
   "execution_count": null,
   "metadata": {},
   "outputs": [],
   "source": [
    "gen"
   ]
  },
  {
   "cell_type": "code",
   "execution_count": null,
   "metadata": {},
   "outputs": [],
   "source": [
    "for x in gen:\n",
    "    print(x,end =\" \")"
   ]
  },
  {
   "cell_type": "code",
   "execution_count": null,
   "metadata": {},
   "outputs": [],
   "source": [
    " dict((x,x **2) for x in range(10))"
   ]
  },
  {
   "cell_type": "code",
   "execution_count": null,
   "metadata": {},
   "outputs": [],
   "source": [
    "a=45\n",
    "n=int(input())\n",
    "for i in range(n):\n",
    "    s=0\n",
    "    line= input()\n",
    "    for j in line:\n",
    "        s += int(j)\n",
    "    print(a-s)"
   ]
  },
  {
   "cell_type": "code",
   "execution_count": null,
   "metadata": {},
   "outputs": [],
   "source": [
    "'2'*3"
   ]
  },
  {
   "cell_type": "code",
   "execution_count": null,
   "metadata": {},
   "outputs": [],
   "source": [
    "\"Agent #{i+1}\""
   ]
  },
  {
   "cell_type": "code",
   "execution_count": null,
   "metadata": {},
   "outputs": [],
   "source": [
    "import random\n",
    "numbers = [random.randint(1, 50) for i in range(random.randint(3, 10))]\n",
    "operations=[bin(i)[2:].zfill(len(numbers)-1)for i in range(2**len(numbers)-1)]"
   ]
  },
  {
   "cell_type": "code",
   "execution_count": null,
   "metadata": {},
   "outputs": [],
   "source": [
    "operations[:9]"
   ]
  },
  {
   "cell_type": "code",
   "execution_count": null,
   "metadata": {},
   "outputs": [],
   "source": [
    "operation_symbols = [''.join('-' if num == '0' else '+' for num in op) for op in operations]"
   ]
  },
  {
   "cell_type": "code",
   "execution_count": null,
   "metadata": {},
   "outputs": [],
   "source": [
    "operation_symbols[:10]"
   ]
  },
  {
   "cell_type": "code",
   "execution_count": null,
   "metadata": {},
   "outputs": [],
   "source": [
    "operation_symbols[0]"
   ]
  },
  {
   "cell_type": "code",
   "execution_count": null,
   "metadata": {},
   "outputs": [],
   "source": [
    "expressions = []\n",
    "for operands in operation_symbols:\n",
    "    expression = ''\n",
    "    for i in  range(len(operands)):\n",
    "        expression += str(numbers[i]) + operands[i]\n",
    "    expression += str(numbers[-1])\n",
    "    expressions.append(expression)\n",
    "\n",
    "\n"
   ]
  },
  {
   "cell_type": "code",
   "execution_count": null,
   "metadata": {},
   "outputs": [],
   "source": [
    "expressions[:10]"
   ]
  },
  {
   "cell_type": "code",
   "execution_count": null,
   "metadata": {},
   "outputs": [],
   "source": [
    "count = 0\n",
    "for exp in expressions:\n",
    "   if not eval(exp):\n",
    "       count += 1\n",
    "print(count)\n"
   ]
  },
  {
   "cell_type": "code",
   "execution_count": null,
   "metadata": {},
   "outputs": [],
   "source": [
    "numbers[:10]"
   ]
  },
  {
   "cell_type": "code",
   "execution_count": null,
   "metadata": {},
   "outputs": [],
   "source": [
    "grid_size = int(input())\n",
    "grid = ' '.join([input() for _ in range(grid_size)])"
   ]
  },
  {
   "cell_type": "code",
   "execution_count": null,
   "metadata": {},
   "outputs": [],
   "source": [
    "grid"
   ]
  },
  {
   "cell_type": "code",
   "execution_count": null,
   "metadata": {},
   "outputs": [],
   "source": [
    "import itertools\n",
    "all_possible_ways =list(itertools.permutations(\"RD\"*(grid_size-1),2*(grid_size-1)))\n"
   ]
  },
  {
   "cell_type": "code",
   "execution_count": null,
   "metadata": {},
   "outputs": [],
   "source": [
    "all_possible_ways[:12]"
   ]
  },
  {
   "cell_type": "code",
   "execution_count": null,
   "metadata": {},
   "outputs": [],
   "source": [
    "max_count = 0\n",
    "for ways in all_possible_ways:\n",
    "    position = 0\n",
    "    count = 0\n",
    "    if grid[position] == 'o':\n",
    "        count += 1\n",
    "    for direction in ways:\n",
    "        if direction == 'R':\n",
    "            position += 1\n",
    "        elif direction == 'D':\n",
    "            position += grid_size\n",
    "        if grid[position] == 'o':\n",
    "            count += 1\n",
    "    if count >max_count:\n",
    "        max_count = count\n",
    "print(max_count)\n"
   ]
  },
  {
   "cell_type": "code",
   "execution_count": null,
   "metadata": {},
   "outputs": [],
   "source": [
    "\n",
    "max_count = 0\n",
    "for way in all_possible_ways:\n",
    "  position = 0\n",
    "  count = 0\n",
    "  if grid[position] == 'o':\n",
    "    count += 1\n",
    "  for direction in way:\n",
    "    if direction == 'R':\n",
    "      position += 1\n",
    "    elif direction == 'D':\n",
    "      position += grid_size\n",
    "    if grid[position] == 'o':\n",
    "      count += 1\n",
    "  if count > max_count:\n",
    "    max_count = count\n",
    "​\n",
    "print(max_count)\n",
    "\n",
    "\n",
    "\n",
    "\n"
   ]
  },
  {
   "cell_type": "code",
   "execution_count": null,
   "metadata": {},
   "outputs": [],
   "source": []
  },
  {
   "cell_type": "code",
   "execution_count": null,
   "metadata": {},
   "outputs": [],
   "source": []
  },
  {
   "cell_type": "code",
   "execution_count": null,
   "metadata": {},
   "outputs": [],
   "source": [
    "import itertools\n",
    "first_letter = lambda x:x[0]\n",
    "names=['Aha','Alheya','west','steven','east','Albert'] \n",
    "\n",
    "for letter,groups in itertools.groupby(names,first_letter):\n",
    "    print(letter,list(groups))"
   ]
  },
  {
   "cell_type": "code",
   "execution_count": null,
   "metadata": {},
   "outputs": [],
   "source": [
    "import itertools\n",
    "first_letter = lambda x:x[0]\n",
    "names=['Aha','Alheya','west','steven','east','Albert'] \n",
    "names.sort(key=first_letter)\n",
    "for letter,groups in itertools.groupby(names,first_letter):\n",
    "    print(letter,list(groups))"
   ]
  },
  {
   "cell_type": "code",
   "execution_count": null,
   "metadata": {},
   "outputs": [],
   "source": [
    "# combinatins,permutations and Cartesian product\n",
    "import itertools\n",
    "arr=[1,2,3,4]\n",
    "arr2=[5,6]\n",
    "tuple(itertools.combinations(arr,2))\n"
   ]
  },
  {
   "cell_type": "code",
   "execution_count": null,
   "metadata": {},
   "outputs": [],
   "source": [
    "list(itertools.permutations(arr,2))\n",
    "# In Permutations order will not taken as consideration but in combinations order will taken as comnsideration  "
   ]
  },
  {
   "cell_type": "code",
   "execution_count": null,
   "metadata": {},
   "outputs": [],
   "source": [
    "tuple(itertools.combinations(arr,3))"
   ]
  },
  {
   "cell_type": "code",
   "execution_count": null,
   "metadata": {},
   "outputs": [],
   "source": [
    "list(itertools.product(arr,arr2,repeat=1))"
   ]
  },
  {
   "cell_type": "code",
   "execution_count": null,
   "metadata": {},
   "outputs": [],
   "source": [
    "import sys\n",
    "import math\n",
    "\n",
    "# Auto-generated code below aims at helping you parse\n",
    "# the standard input according to the problem statement.\n",
    "\n",
    "m, n = [int(i) for i in input().split()]\n",
    "print(m*n-1)\n"
   ]
  },
  {
   "cell_type": "code",
   "execution_count": null,
   "metadata": {},
   "outputs": [],
   "source": [
    "n= int(input())\n",
    "cows= input()\n",
    "while n:\n",
    "    n -= 1\n",
    "    x = input()\n",
    "    print(*[\"Invalid\" if [ i for i in range(len(x)) if x[i] == cows[i]] else \"Valid\" ])\n",
    "\n",
    "\n"
   ]
  },
  {
   "cell_type": "code",
   "execution_count": null,
   "metadata": {},
   "outputs": [],
   "source": [
    "#Errors and except  Handling\n",
    "float('12.3344')\n",
    "float('something') \n"
   ]
  },
  {
   "cell_type": "code",
   "execution_count": null,
   "metadata": {},
   "outputs": [],
   "source": [
    "# If  we want to handle exceptly errors then we will use exception Handling\n",
    "def attempt_float(x):\n",
    "    try:\n",
    "        return float(x)\n",
    "    except:\n",
    "        return x\n",
    "attempt_float('12.3546')"
   ]
  },
  {
   "cell_type": "code",
   "execution_count": null,
   "metadata": {},
   "outputs": [],
   "source": [
    "attempt_float('Something')"
   ]
  },
  {
   "cell_type": "code",
   "execution_count": null,
   "metadata": {},
   "outputs": [],
   "source": [
    "float((1,2))"
   ]
  },
  {
   "cell_type": "code",
   "execution_count": null,
   "metadata": {},
   "outputs": [],
   "source": [
    "def attempt_float(x):\n",
    "    try:\n",
    "        return float(x)\n",
    "    except ValueError:\n",
    "        return x\n",
    "attempt_float(\"something\")"
   ]
  },
  {
   "cell_type": "code",
   "execution_count": null,
   "metadata": {},
   "outputs": [],
   "source": [
    "attempt_float((1,2))"
   ]
  },
  {
   "cell_type": "code",
   "execution_count": null,
   "metadata": {},
   "outputs": [],
   "source": [
    "# if we want to use multiple exception then we can write that in tuple \n",
    "def attempt_float(x):\n",
    "    try:\n",
    "        return float(x)\n",
    "    except (ValueError,TypeError):\n",
    "        return x\n",
    "attempt_float((1,2))"
   ]
  },
  {
   "cell_type": "code",
   "execution_count": null,
   "metadata": {},
   "outputs": [],
   "source": [
    "attempt_float('something')"
   ]
  },
  {
   "cell_type": "code",
   "execution_count": null,
   "metadata": {},
   "outputs": [],
   "source": [
    "# if we donot want supress an exception and we need to execute some code regardless of the code whether succeed or not then we will use   finally() block \n",
    "f=open('path','w')\n",
    "try:\n",
    "    write_to_file(f)\n",
    "finally:\n",
    "    f.close()\n"
   ]
  },
  {
   "cell_type": "code",
   "execution_count": null,
   "metadata": {},
   "outputs": [],
   "source": [
    "0+0"
   ]
  },
  {
   "cell_type": "code",
   "execution_count": null,
   "metadata": {},
   "outputs": [],
   "source": [
    "# if we donot want supress an exception and we need to execute some code regardless of the code whether succeed or not then we will use   finally() block \n",
    "f=open('path','w')\n",
    "try:\n",
    "    writing_to_file(f)\n",
    "except:\n",
    "    print(\"Failed\")\n",
    "else:\n",
    "    print(\"succeed\")\n",
    "finally:\n",
    "    f.close()"
   ]
  },
  {
   "cell_type": "code",
   "execution_count": null,
   "metadata": {},
   "outputs": [],
   "source": []
  },
  {
   "cell_type": "code",
   "execution_count": null,
   "metadata": {},
   "outputs": [],
   "source": [
    "a=eval('4*3')\n",
    "a"
   ]
  },
  {
   "cell_type": "code",
   "execution_count": null,
   "metadata": {},
   "outputs": [],
   "source": [
    "\n",
    "import sys\n",
    "import math\n",
    "lines = int(input())\n",
    "total_score=0\n",
    "for i in range(lines):\n",
    "    part = input().split()\n",
    "    for line in part:\n",
    "        if line == '|':\n",
    "            total_score += 3\n",
    "        elif line == '-':\n",
    "            total_score += 1\n",
    "        elif line == '//' or line == '\\\\':\n",
    "            total_score += 2\n",
    "print(total_score)"
   ]
  },
  {
   "cell_type": "code",
   "execution_count": null,
   "metadata": {},
   "outputs": [],
   "source": [
    "70//10"
   ]
  },
  {
   "cell_type": "code",
   "execution_count": null,
   "metadata": {},
   "outputs": [],
   "source": [
    "70%10"
   ]
  },
  {
   "cell_type": "code",
   "execution_count": null,
   "metadata": {},
   "outputs": [],
   "source": [
    "import math\n",
    "math.pow(2,2)"
   ]
  },
  {
   "cell_type": "code",
   "execution_count": null,
   "metadata": {},
   "outputs": [],
   "source": [
    "def squaresofdigits(num):\n",
    "    value = 0\n",
    "    while num>0:\n",
    "        last_digit = num%10\n",
    "        value += int(math.pow(last_digit,2))\n",
    "        num = num/10\n",
    "    return value\n",
    "n = int(input())\n",
    "a = squaresofdigits(n)\n",
    "if a == 1:\n",
    "    print(\"num:\",\"(\")\n",
    "elif \n",
    "a"
   ]
  },
  {
   "cell_type": "code",
   "execution_count": null,
   "metadata": {},
   "outputs": [],
   "source": [
    "path = 'Runlength encoder.txt'\n",
    "f = open(path)\n"
   ]
  },
  {
   "cell_type": "code",
   "execution_count": null,
   "metadata": {},
   "outputs": [],
   "source": [
    "for line in f:\n",
    "    print(line)"
   ]
  },
  {
   "cell_type": "code",
   "execution_count": null,
   "metadata": {},
   "outputs": [],
   "source": [
    "a = [line.strip() for line in f]"
   ]
  },
  {
   "cell_type": "code",
   "execution_count": null,
   "metadata": {},
   "outputs": [],
   "source": [
    "a"
   ]
  },
  {
   "cell_type": "code",
   "execution_count": null,
   "metadata": {},
   "outputs": [],
   "source": [
    "f.close()"
   ]
  },
  {
   "cell_type": "code",
   "execution_count": null,
   "metadata": {},
   "outputs": [],
   "source": [
    "with open(path,'rt') as f:\n",
    "    print([ lines.strip() for lines in f])"
   ]
  },
  {
   "cell_type": "code",
   "execution_count": null,
   "metadata": {},
   "outputs": [],
   "source": [
    "f=open(path,'rt')\n",
    "f.readlines()\n"
   ]
  },
  {
   "cell_type": "code",
   "execution_count": null,
   "metadata": {},
   "outputs": [],
   "source": [
    "f2=open(path,'rb')\n",
    "f2.read(10)"
   ]
  },
  {
   "cell_type": "code",
   "execution_count": null,
   "metadata": {},
   "outputs": [],
   "source": [
    "f2.tell()"
   ]
  },
  {
   "cell_type": "code",
   "execution_count": null,
   "metadata": {},
   "outputs": [],
   "source": [
    "f2.seek(3)\n",
    "f2.read(1)\n",
    "\n",
    "\n"
   ]
  },
  {
   "cell_type": "code",
   "execution_count": null,
   "metadata": {},
   "outputs": [],
   "source": [
    "import sys\n",
    "sys.getdefaultencoding() "
   ]
  },
  {
   "cell_type": "code",
   "execution_count": null,
   "metadata": {},
   "outputs": [],
   "source": [
    "with open('tmp.txt','w') as handle:\n",
    "    handle.writelines(x for x in open(path) if len(x) > 1)\n"
   ]
  },
  {
   "cell_type": "code",
   "execution_count": null,
   "metadata": {},
   "outputs": [],
   "source": [
    "with open('tmp.txt','r') as  f2:\n",
    "    print(f2.readlines())"
   ]
  },
  {
   "cell_type": "code",
   "execution_count": null,
   "metadata": {},
   "outputs": [],
   "source": [
    "lines"
   ]
  },
  {
   "cell_type": "code",
   "execution_count": null,
   "metadata": {},
   "outputs": [],
   "source": [
    "import os\n",
    "os.remove('tmp.txt')"
   ]
  },
  {
   "cell_type": "code",
   "execution_count": null,
   "metadata": {},
   "outputs": [],
   "source": [
    "with open(path,'rb') as f:\n",
    "    data=f.read(10)\n",
    "data"
   ]
  },
  {
   "cell_type": "code",
   "execution_count": null,
   "metadata": {},
   "outputs": [],
   "source": [
    "data.decode('utf8')"
   ]
  },
  {
   "cell_type": "code",
   "execution_count": null,
   "metadata": {},
   "outputs": [],
   "source": [
    "sink_path='sink.txt'\n",
    "with open(path) as source:\n",
    "    with open(sink_path,'xt',encoding='iso-8859-1') as sink:\n",
    "        sink.write(source.read())\n",
    "\n"
   ]
  },
  {
   "cell_type": "code",
   "execution_count": null,
   "metadata": {},
   "outputs": [],
   "source": [
    "with open(sink_path,encoding='iso-8859-1') as f:\n",
    "    print(*f.readlines())"
   ]
  },
  {
   "cell_type": "code",
   "execution_count": null,
   "metadata": {},
   "outputs": [],
   "source": [
    "os.remove(sink_path)"
   ]
  },
  {
   "cell_type": "code",
   "execution_count": null,
   "metadata": {},
   "outputs": [],
   "source": [
    "os.remove(path)"
   ]
  },
  {
   "cell_type": "code",
   "execution_count": null,
   "metadata": {},
   "outputs": [],
   "source": [
    "json_data={\"office\":{\"medical\":[{\"room number\":100,\"use\":\"reception\",\"sq-ft\":50,\"price\":75},{\"room number\":101,\"use\":\"waiting\",\"sq-ft\":250,\"price\":75},{\"room number\":102,\"use\":\"examination\",\"sq-ft\":125,\"price\":150}]},\"parking\":{\"location\":\"premium\",\"style\":\"covered\",\"price\":750}}"
   ]
  },
  {
   "cell_type": "code",
   "execution_count": null,
   "metadata": {},
   "outputs": [],
   "source": [
    "import json\n",
    "json_data='{\"office\":{\"medical\":[{\"room number\":100,\"use\":\"reception\",\"sq-ft\":50,\"price\":75},{\"room number\":101,\"use\":\"waiting\",\"sq-ft\":250,\"price\":75},{\"room number\":102,\"use\":\"examination\",\"sq-ft\":125,\"price\":150}]},\"parking\":{\"location\":\"premium\",\"style\":\"covered\",\"price\":750}}'"
   ]
  },
  {
   "cell_type": "code",
   "execution_count": null,
   "metadata": {},
   "outputs": [],
   "source": [
    "jsonTopython = json.loads(json_data)\n",
    "type(jsonTopython)"
   ]
  },
  {
   "cell_type": "code",
   "execution_count": null,
   "metadata": {},
   "outputs": [],
   "source": [
    "jsonTopython"
   ]
  },
  {
   "cell_type": "code",
   "execution_count": null,
   "metadata": {},
   "outputs": [],
   "source": [
    "#Aceesing components of the parsed dictionary\n",
    "jsonTopython['office']"
   ]
  },
  {
   "cell_type": "code",
   "execution_count": null,
   "metadata": {},
   "outputs": [],
   "source": [
    "jsonTopython['office']['medical']"
   ]
  },
  {
   "cell_type": "code",
   "execution_count": null,
   "metadata": {},
   "outputs": [],
   "source": [
    "jsonTopython['office']['medical'][0]"
   ]
  },
  {
   "cell_type": "code",
   "execution_count": null,
   "metadata": {},
   "outputs": [],
   "source": [
    "jsonTopython['office']['medical'][0]['sq-ft']"
   ]
  },
  {
   "cell_type": "code",
   "execution_count": null,
   "metadata": {},
   "outputs": [],
   "source": [
    "#Convert Python dictionary to JSON\n",
    "json.dumps(jsonTopython)"
   ]
  },
  {
   "cell_type": "code",
   "execution_count": null,
   "metadata": {},
   "outputs": [],
   "source": [
    "pythonDictionary = {'name':'bob','age':45,'isEmployed':True}"
   ]
  },
  {
   "cell_type": "code",
   "execution_count": null,
   "metadata": {},
   "outputs": [],
   "source": [
    "dictionarytojson = json.dumps(pyhtonDictionary)"
   ]
  },
  {
   "cell_type": "code",
   "execution_count": null,
   "metadata": {},
   "outputs": [],
   "source": [
    "dictionarytojson"
   ]
  },
  {
   "cell_type": "code",
   "execution_count": null,
   "metadata": {},
   "outputs": [],
   "source": [
    "import sys\n",
    "import math\n",
    "n = int(input())\n",
    "count = 0\n",
    "for i in range(n):\n",
    "    row = input().split()\n",
    "    for num in row:\n",
    "        if int(num) == i:\n",
    "            count += 1\n",
    "print(count)"
   ]
  },
  {
   "cell_type": "code",
   "execution_count": null,
   "metadata": {},
   "outputs": [],
   "source": [
    "n = int(input())\n",
    "c=0\n",
    "for i in range(n):\n",
    "    l = []\n",
    "    for j in range(i+1):\n",
    "        c += 1\n",
    "        l.append(c)\n",
    "    print(*l)"
   ]
  },
  {
   "cell_type": "code",
   "execution_count": null,
   "metadata": {},
   "outputs": [],
   "source": [
    "import sys\n",
    "import math\n",
    "s = input()\n",
    "c = 0\n",
    "if s[0] == '-':\n",
    "    for i in range(1,len(s)-1):\n",
    "        c += int(s[\n",
    "            i+1])\n",
    "    c = int(s[1])*c\n",
    "    if c >0:\n",
    "        print(c)\n",
    "    else:\n",
    "        print(\"Invalid\")\n",
    "       \n",
    "elif s[0] != '-':\n",
    "    for i in range(1,len(s)):\n",
    "        if s[0] != '-':\n",
    "            c += int(s[i])\n",
    "    c =int(s[0])*c\n",
    "    if c >0:\n",
    "        print(c)\n",
    "    else:\n",
    "        print(\"Invalid\")\n",
    "    "
   ]
  },
  {
   "cell_type": "code",
   "execution_count": null,
   "metadata": {},
   "outputs": [],
   "source": [
    "def factorial(x):\n",
    "    if x == 0 or x == 1:\n",
    "        return 1\n",
    "    else:\n",
    "        return x*factorial(x)\n",
    "a=factorial(5)\n",
    "a\n",
    "\n"
   ]
  },
  {
   "cell_type": "code",
   "execution_count": null,
   "metadata": {},
   "outputs": [],
   "source": [
    "a"
   ]
  },
  {
   "cell_type": "code",
   "execution_count": null,
   "metadata": {},
   "outputs": [],
   "source": [
    "print(int(input())*int(input())//60)"
   ]
  },
  {
   "cell_type": "code",
   "execution_count": null,
   "metadata": {},
   "outputs": [],
   "source": [
    "x=int(input())\n",
    "print(str(x%2<1).lower())\n"
   ]
  },
  {
   "cell_type": "code",
   "execution_count": null,
   "metadata": {},
   "outputs": [],
   "source": [
    "import sys\n",
    "import math\n",
    "l = int(input())  # The length of the slider\n",
    "n = int(input()) # The number of percentages\n",
    "for i in range(n):\n",
    "    a = \"\"\n",
    "    p = int(input())  # Percentage\n",
    "    print(\"-\"*((p//l)-1)+\"o\"+\"-\"*(p//l))\n",
    "    "
   ]
  },
  {
   "cell_type": "code",
   "execution_count": null,
   "metadata": {},
   "outputs": [],
   "source": [
    "a,b = [int(i) for i in input().split()]\n",
    "print(a*b%26)"
   ]
  },
  {
   "cell_type": "code",
   "execution_count": null,
   "metadata": {},
   "outputs": [],
   "source": [
    "import json\n",
    "class employee(object):\n",
    "    def __init__(self,name):\n",
    "        self.name=name\n",
    "Megha=employee(\"Megha\")\n",
    "json.dumps(Megha)"
   ]
  },
  {
   "cell_type": "code",
   "execution_count": null,
   "metadata": {},
   "outputs": [],
   "source": [
    "#because we can not store generic  object into json module\n",
    "def jsontoObject(object):\n",
    "    return object.__dict__\n",
    "json.dumps(Megha,default=jsontoObject)\n",
    "\n"
   ]
  },
  {
   "cell_type": "code",
   "execution_count": null,
   "metadata": {},
   "outputs": [],
   "source": [
    "json.dumps(Megha,default = lambda x:x.__dict__)"
   ]
  },
  {
   "cell_type": "code",
   "execution_count": null,
   "metadata": {},
   "outputs": [],
   "source": [
    "#variants for dumps()\n",
    "#sorting\n",
    "json.dumps({\"a\":0,\"b\":1,\"c\":2},sort_keys=True)"
   ]
  },
  {
   "cell_type": "code",
   "execution_count": null,
   "metadata": {},
   "outputs": [],
   "source": [
    "#compact encoding\n",
    "json.dumps([1,2,3,{'4' :5, '6' : 7}],separators=(',',':'))"
   ]
  },
  {
   "cell_type": "code",
   "execution_count": null,
   "metadata": {},
   "outputs": [],
   "source": [
    "#Pretty Printing\n",
    "json.dumps({'6':5,'4':2},sort_keys=True,indent=4,separators=(',',':')) "
   ]
  },
  {
   "cell_type": "code",
   "execution_count": null,
   "metadata": {},
   "outputs": [],
   "source": [
    "#Reading json generic objects(like complex as String ) to python object\n",
    "def as_complex(dct):\n",
    "    if '__complex__' in dct:\n",
    "        return complex(dct['real'],dct['img'])\n",
    "    return dct\n",
    "var1=json.loads('{\"__complex__\": true,\"real\": 1 ,\"img\": 2}',object_hook=as_complex)\n",
    "var1"
   ]
  },
  {
   "cell_type": "code",
   "execution_count": null,
   "metadata": {},
   "outputs": [],
   "source": [
    "type(var1)"
   ]
  },
  {
   "cell_type": "code",
   "execution_count": null,
   "metadata": {},
   "outputs": [],
   "source": [
    "import sys\n",
    "import math\n",
    "statement = input()\n",
    "n = int(input())\n",
    "for i in range(n):\n",
    "    word = input()\n",
    "    statement = statement.replace(\"_\",word,1)\n",
    "print(statement)"
   ]
  },
  {
   "cell_type": "code",
   "execution_count": null,
   "metadata": {},
   "outputs": [],
   "source": [
    "import sys\n",
    "import math\n",
    "n = int(input())\n",
    "list = []\n",
    "for i in range(n):\n",
    "    a, b, c = [int(j) for j in input().split()]\n",
    "    list.extend([a,b,c])\n",
    "sorted(list,key = lambda x : x[0]*x[1]+x[2])\n",
    "print(*list)"
   ]
  },
  {
   "cell_type": "code",
   "execution_count": null,
   "metadata": {},
   "outputs": [],
   "source": [
    "a=[1,3,4,4,3]\n",
    "sum(set(a))"
   ]
  },
  {
   "cell_type": "code",
   "execution_count": null,
   "metadata": {},
   "outputs": [],
   "source": [
    "s=set([1,3])\n",
    "s"
   ]
  },
  {
   "cell_type": "code",
   "execution_count": null,
   "metadata": {},
   "outputs": [],
   "source": [
    "{1,2}"
   ]
  },
  {
   "cell_type": "code",
   "execution_count": null,
   "metadata": {},
   "outputs": [],
   "source": [
    "s =set(['zs','er'])\n",
    "s"
   ]
  },
  {
   "cell_type": "code",
   "execution_count": null,
   "metadata": {},
   "outputs": [],
   "source": [
    "s.add('g')"
   ]
  },
  {
   "cell_type": "code",
   "execution_count": null,
   "metadata": {},
   "outputs": [],
   "source": [
    "print(s)"
   ]
  },
  {
   "cell_type": "code",
   "execution_count": null,
   "metadata": {},
   "outputs": [],
   "source": [
    "s = set('dfgg')\n",
    "print(s)"
   ]
  },
  {
   "cell_type": "code",
   "execution_count": null,
   "metadata": {},
   "outputs": [],
   "source": [
    "import math\n",
    "math.ceil(3/9)"
   ]
  },
  {
   "cell_type": "code",
   "execution_count": null,
   "metadata": {},
   "outputs": [],
   "source": [
    "alphabets = {'a':0,'b':1,'c':2,'d':3,'e':4,'f':5,'g':6,'h':7,'i':8,'j':9,'k':10,'l':11,'m':12,'n':13,'o':14,'p':15,'q':16,'r':17,'s':18,'t':19,'u':20,'v':21,'w':22,'x':23,'y':24,'z':25}\n",
    "qw ,q= [ int(i) for i in input().split()]\n",
    "al_keys = list(alphabets.keys())\n",
    "al_values = list(alphabets.values())\n",
    "if q == 0:\n",
    "    print(alphabets[q])\n",
    "else:\n",
    "    position = al_values.index(math.ceil(qw//q))\n",
    "    print(al_keys[position])\n"
   ]
  },
  {
   "cell_type": "code",
   "execution_count": 22,
   "metadata": {},
   "outputs": [
    {
     "output_type": "stream",
     "name": "stdout",
     "text": [
      " 1  1  1     1\n 2  2  2    10\n 3  3  3    11\n 4  4  4   100\n 5  5  5   101\n 6  6  6   110\n 7  7  7   111\n 8 10  8  1000\n 9 11  9  1001\n10 12  a  1010\n11 13  b  1011\n12 14  c  1100\n13 15  d  1101\n14 16  e  1110\n15 17  f  1111\n16 20 10 10000\n"
     ]
    }
   ],
   "source": [
    "number = int(input())\n",
    "for i in range(1,number):\n",
    "        print(repr(i).rjust(2),oct(i).lstrip(\"0o\").rstrip(\"L\").rjust(len(oct(number)[2:])),end = \" \")\n",
    "        print(hex(i).lstrip(\"0x\").rstrip(\"L\").rjust(len(hex(number)[2:])).upper(),bin(i).lstrip(\"0b\").rstrip(\"L\").rjust(len(bin(number)[2:])))"
   ]
  },
  {
   "cell_type": "code",
   "execution_count": 27,
   "metadata": {},
   "outputs": [
    {
     "output_type": "error",
     "ename": "ValueError",
     "evalue": "Unknown format code 'X' for object of type 'str'",
     "traceback": [
      "\u001b[1;31m---------------------------------------------------------------------------\u001b[0m",
      "\u001b[1;31mValueError\u001b[0m                                Traceback (most recent call last)",
      "\u001b[1;32m<ipython-input-27-6538cecf2c18>\u001b[0m in \u001b[0;36m<module>\u001b[1;34m\u001b[0m\n\u001b[0;32m      1\u001b[0m \u001b[1;32mfor\u001b[0m \u001b[0mi\u001b[0m \u001b[1;32min\u001b[0m \u001b[0mrange\u001b[0m\u001b[1;33m(\u001b[0m\u001b[0mint\u001b[0m\u001b[1;33m(\u001b[0m\u001b[0minput\u001b[0m\u001b[1;33m(\u001b[0m\u001b[1;33m)\u001b[0m\u001b[1;33m)\u001b[0m\u001b[1;33m)\u001b[0m\u001b[1;33m:\u001b[0m\u001b[1;33m\u001b[0m\u001b[1;33m\u001b[0m\u001b[0m\n\u001b[0;32m      2\u001b[0m     \u001b[0ma\u001b[0m \u001b[1;33m=\u001b[0m \u001b[0mhex\u001b[0m\u001b[1;33m(\u001b[0m\u001b[0mi\u001b[0m\u001b[1;33m)\u001b[0m\u001b[1;33m.\u001b[0m\u001b[0mlstrip\u001b[0m\u001b[1;33m(\u001b[0m\u001b[1;34m\"0x\"\u001b[0m\u001b[1;33m)\u001b[0m\u001b[1;33m.\u001b[0m\u001b[0mrstrip\u001b[0m\u001b[1;33m(\u001b[0m\u001b[1;34m\"L\"\u001b[0m\u001b[1;33m)\u001b[0m\u001b[1;33m\u001b[0m\u001b[1;33m\u001b[0m\u001b[0m\n\u001b[1;32m----> 3\u001b[1;33m     \u001b[0mprint\u001b[0m\u001b[1;33m(\u001b[0m\u001b[0mformat\u001b[0m\u001b[1;33m(\u001b[0m\u001b[0mstr\u001b[0m\u001b[1;33m(\u001b[0m\u001b[0ma\u001b[0m\u001b[1;33m)\u001b[0m\u001b[1;33m,\u001b[0m\u001b[1;34m\"03X\"\u001b[0m\u001b[1;33m)\u001b[0m\u001b[1;33m)\u001b[0m\u001b[1;33m\u001b[0m\u001b[1;33m\u001b[0m\u001b[0m\n\u001b[0m",
      "\u001b[1;31mValueError\u001b[0m: Unknown format code 'X' for object of type 'str'"
     ]
    }
   ],
   "source": [
    "for i in range(int(input())):\n",
    "    a = hex(i).lstrip(\"0x\").rstrip(\"L\")\n",
    "    print(format(str(a),\"03X\"))"
   ]
  },
  {
   "cell_type": "code",
   "execution_count": 28,
   "metadata": {},
   "outputs": [
    {
     "output_type": "stream",
     "name": "stdout",
     "text": [
      "0XC\n"
     ]
    }
   ],
   "source": [
    "print(hex(12).upper())"
   ]
  },
  {
   "cell_type": "code",
   "execution_count": 7,
   "metadata": {},
   "outputs": [
    {
     "output_type": "stream",
     "name": "stdout",
     "text": [
      "1.1111111111111112\n22.22222222222222\n333.33333333333337\n"
     ]
    }
   ],
   "source": [
    "import math\n",
    "for i in range(1,int(input())):\n",
    "    print(pow(10,i)//9*i)"
   ]
  },
  {
   "cell_type": "code",
   "execution_count": 18,
   "metadata": {},
   "outputs": [
    {
     "output_type": "error",
     "ename": "TypeError",
     "evalue": "'<=' not supported between instances of 'str' and 'int'",
     "traceback": [
      "\u001b[1;31m---------------------------------------------------------------------------\u001b[0m",
      "\u001b[1;31mTypeError\u001b[0m                                 Traceback (most recent call last)",
      "\u001b[1;32m<ipython-input-18-bf2e05fd244c>\u001b[0m in \u001b[0;36m<module>\u001b[1;34m\u001b[0m\n\u001b[0;32m      5\u001b[0m     \u001b[0mprint\u001b[0m\u001b[1;33m(\u001b[0m\u001b[1;33m*\u001b[0m\u001b[0mlist\u001b[0m\u001b[1;33m)\u001b[0m\u001b[1;33m\u001b[0m\u001b[1;33m\u001b[0m\u001b[0m\n\u001b[0;32m      6\u001b[0m \u001b[0mstring\u001b[0m\u001b[1;33m,\u001b[0m\u001b[0mk\u001b[0m \u001b[1;33m=\u001b[0m \u001b[0minput\u001b[0m\u001b[1;33m(\u001b[0m\u001b[1;33m)\u001b[0m\u001b[1;33m.\u001b[0m\u001b[0msplit\u001b[0m\u001b[1;33m(\u001b[0m\u001b[1;33m)\u001b[0m\u001b[1;33m\u001b[0m\u001b[1;33m\u001b[0m\u001b[0m\n\u001b[1;32m----> 7\u001b[1;33m \u001b[0mmerge_the_tools\u001b[0m\u001b[1;33m(\u001b[0m\u001b[0mstring\u001b[0m\u001b[1;33m,\u001b[0m \u001b[0mk\u001b[0m\u001b[1;33m)\u001b[0m\u001b[1;33m\u001b[0m\u001b[1;33m\u001b[0m\u001b[0m\n\u001b[0m",
      "\u001b[1;32m<ipython-input-18-bf2e05fd244c>\u001b[0m in \u001b[0;36mmerge_the_tools\u001b[1;34m(string, k)\u001b[0m\n\u001b[0;32m      2\u001b[0m \u001b[1;32mdef\u001b[0m \u001b[0mmerge_the_tools\u001b[0m\u001b[1;33m(\u001b[0m\u001b[0mstring\u001b[0m\u001b[1;33m,\u001b[0m \u001b[0mk\u001b[0m\u001b[1;33m)\u001b[0m\u001b[1;33m:\u001b[0m\u001b[1;33m\u001b[0m\u001b[1;33m\u001b[0m\u001b[0m\n\u001b[0;32m      3\u001b[0m     \u001b[0mlist_of_word\u001b[0m \u001b[1;33m=\u001b[0m \u001b[0mtextwrap\u001b[0m\u001b[1;33m.\u001b[0m\u001b[0mTextWrapper\u001b[0m\u001b[1;33m(\u001b[0m\u001b[0mwidth\u001b[0m\u001b[1;33m=\u001b[0m \u001b[0mk\u001b[0m\u001b[1;33m)\u001b[0m\u001b[1;33m\u001b[0m\u001b[1;33m\u001b[0m\u001b[0m\n\u001b[1;32m----> 4\u001b[1;33m     \u001b[0mlist\u001b[0m \u001b[1;33m=\u001b[0m \u001b[0mlist_of_word\u001b[0m\u001b[1;33m.\u001b[0m\u001b[0mwrap\u001b[0m\u001b[1;33m(\u001b[0m\u001b[0mtext\u001b[0m \u001b[1;33m=\u001b[0m \u001b[0mstring\u001b[0m\u001b[1;33m)\u001b[0m\u001b[1;33m\u001b[0m\u001b[1;33m\u001b[0m\u001b[0m\n\u001b[0m\u001b[0;32m      5\u001b[0m     \u001b[0mprint\u001b[0m\u001b[1;33m(\u001b[0m\u001b[1;33m*\u001b[0m\u001b[0mlist\u001b[0m\u001b[1;33m)\u001b[0m\u001b[1;33m\u001b[0m\u001b[1;33m\u001b[0m\u001b[0m\n\u001b[0;32m      6\u001b[0m \u001b[0mstring\u001b[0m\u001b[1;33m,\u001b[0m\u001b[0mk\u001b[0m \u001b[1;33m=\u001b[0m \u001b[0minput\u001b[0m\u001b[1;33m(\u001b[0m\u001b[1;33m)\u001b[0m\u001b[1;33m.\u001b[0m\u001b[0msplit\u001b[0m\u001b[1;33m(\u001b[0m\u001b[1;33m)\u001b[0m\u001b[1;33m\u001b[0m\u001b[1;33m\u001b[0m\u001b[0m\n",
      "\u001b[1;32m~\\.conda\\envs\\rstudio\\lib\\textwrap.py\u001b[0m in \u001b[0;36mwrap\u001b[1;34m(self, text)\u001b[0m\n\u001b[0;32m    352\u001b[0m         \u001b[1;32mif\u001b[0m \u001b[0mself\u001b[0m\u001b[1;33m.\u001b[0m\u001b[0mfix_sentence_endings\u001b[0m\u001b[1;33m:\u001b[0m\u001b[1;33m\u001b[0m\u001b[1;33m\u001b[0m\u001b[0m\n\u001b[0;32m    353\u001b[0m             \u001b[0mself\u001b[0m\u001b[1;33m.\u001b[0m\u001b[0m_fix_sentence_endings\u001b[0m\u001b[1;33m(\u001b[0m\u001b[0mchunks\u001b[0m\u001b[1;33m)\u001b[0m\u001b[1;33m\u001b[0m\u001b[1;33m\u001b[0m\u001b[0m\n\u001b[1;32m--> 354\u001b[1;33m         \u001b[1;32mreturn\u001b[0m \u001b[0mself\u001b[0m\u001b[1;33m.\u001b[0m\u001b[0m_wrap_chunks\u001b[0m\u001b[1;33m(\u001b[0m\u001b[0mchunks\u001b[0m\u001b[1;33m)\u001b[0m\u001b[1;33m\u001b[0m\u001b[1;33m\u001b[0m\u001b[0m\n\u001b[0m\u001b[0;32m    355\u001b[0m \u001b[1;33m\u001b[0m\u001b[0m\n\u001b[0;32m    356\u001b[0m     \u001b[1;32mdef\u001b[0m \u001b[0mfill\u001b[0m\u001b[1;33m(\u001b[0m\u001b[0mself\u001b[0m\u001b[1;33m,\u001b[0m \u001b[0mtext\u001b[0m\u001b[1;33m)\u001b[0m\u001b[1;33m:\u001b[0m\u001b[1;33m\u001b[0m\u001b[1;33m\u001b[0m\u001b[0m\n",
      "\u001b[1;32m~\\.conda\\envs\\rstudio\\lib\\textwrap.py\u001b[0m in \u001b[0;36m_wrap_chunks\u001b[1;34m(self, chunks)\u001b[0m\n\u001b[0;32m    245\u001b[0m         \"\"\"\n\u001b[0;32m    246\u001b[0m         \u001b[0mlines\u001b[0m \u001b[1;33m=\u001b[0m \u001b[1;33m[\u001b[0m\u001b[1;33m]\u001b[0m\u001b[1;33m\u001b[0m\u001b[1;33m\u001b[0m\u001b[0m\n\u001b[1;32m--> 247\u001b[1;33m         \u001b[1;32mif\u001b[0m \u001b[0mself\u001b[0m\u001b[1;33m.\u001b[0m\u001b[0mwidth\u001b[0m \u001b[1;33m<=\u001b[0m \u001b[1;36m0\u001b[0m\u001b[1;33m:\u001b[0m\u001b[1;33m\u001b[0m\u001b[1;33m\u001b[0m\u001b[0m\n\u001b[0m\u001b[0;32m    248\u001b[0m             \u001b[1;32mraise\u001b[0m \u001b[0mValueError\u001b[0m\u001b[1;33m(\u001b[0m\u001b[1;34m\"invalid width %r (must be > 0)\"\u001b[0m \u001b[1;33m%\u001b[0m \u001b[0mself\u001b[0m\u001b[1;33m.\u001b[0m\u001b[0mwidth\u001b[0m\u001b[1;33m)\u001b[0m\u001b[1;33m\u001b[0m\u001b[1;33m\u001b[0m\u001b[0m\n\u001b[0;32m    249\u001b[0m         \u001b[1;32mif\u001b[0m \u001b[0mself\u001b[0m\u001b[1;33m.\u001b[0m\u001b[0mmax_lines\u001b[0m \u001b[1;32mis\u001b[0m \u001b[1;32mnot\u001b[0m \u001b[1;32mNone\u001b[0m\u001b[1;33m:\u001b[0m\u001b[1;33m\u001b[0m\u001b[1;33m\u001b[0m\u001b[0m\n",
      "\u001b[1;31mTypeError\u001b[0m: '<=' not supported between instances of 'str' and 'int'"
     ]
    }
   ],
   "source": [
    "import textwrap\n",
    "def merge_the_tools(string, k):\n",
    "    list_of_word = textwrap.TextWrapper(width = k)\n",
    "    list = list_of_word.wrap(text = string)\n",
    "    print(*list)\n",
    "string,k = input().split()\n",
    "merge_the_tools(string, k)"
   ]
  },
  {
   "cell_type": "code",
   "execution_count": 14,
   "metadata": {},
   "outputs": [
    {
     "output_type": "error",
     "ename": "TypeError",
     "evalue": "'<=' not supported between instances of 'str' and 'int'",
     "traceback": [
      "\u001b[1;31m---------------------------------------------------------------------------\u001b[0m",
      "\u001b[1;31mTypeError\u001b[0m                                 Traceback (most recent call last)",
      "\u001b[1;32m<ipython-input-14-e2a4b0b83180>\u001b[0m in \u001b[0;36m<module>\u001b[1;34m\u001b[0m\n\u001b[1;32m----> 1\u001b[1;33m \u001b[0mmerge_the_tools\u001b[0m\u001b[1;33m(\u001b[0m\u001b[0mstring\u001b[0m\u001b[1;33m,\u001b[0m \u001b[0mk\u001b[0m\u001b[1;33m)\u001b[0m\u001b[1;33m\u001b[0m\u001b[1;33m\u001b[0m\u001b[0m\n\u001b[0m",
      "\u001b[1;32m<ipython-input-13-63fb182435b9>\u001b[0m in \u001b[0;36mmerge_the_tools\u001b[1;34m(string, k)\u001b[0m\n\u001b[0;32m      2\u001b[0m \u001b[1;32mdef\u001b[0m \u001b[0mmerge_the_tools\u001b[0m\u001b[1;33m(\u001b[0m\u001b[0mstring\u001b[0m\u001b[1;33m,\u001b[0m \u001b[0mk\u001b[0m\u001b[1;33m)\u001b[0m\u001b[1;33m:\u001b[0m\u001b[1;33m\u001b[0m\u001b[1;33m\u001b[0m\u001b[0m\n\u001b[0;32m      3\u001b[0m     \u001b[0mlist_of_word\u001b[0m \u001b[1;33m=\u001b[0m \u001b[0mtextwrap\u001b[0m\u001b[1;33m.\u001b[0m\u001b[0mTextWrapper\u001b[0m\u001b[1;33m(\u001b[0m\u001b[0mk\u001b[0m\u001b[1;33m)\u001b[0m\u001b[1;33m\u001b[0m\u001b[1;33m\u001b[0m\u001b[0m\n\u001b[1;32m----> 4\u001b[1;33m     \u001b[0mlist\u001b[0m \u001b[1;33m=\u001b[0m \u001b[0mlist_of_word\u001b[0m\u001b[1;33m.\u001b[0m\u001b[0mwrap\u001b[0m\u001b[1;33m(\u001b[0m\u001b[0mstring\u001b[0m\u001b[1;33m)\u001b[0m\u001b[1;33m\u001b[0m\u001b[1;33m\u001b[0m\u001b[0m\n\u001b[0m\u001b[0;32m      5\u001b[0m     \u001b[0mprint\u001b[0m\u001b[1;33m(\u001b[0m\u001b[0mlist\u001b[0m\u001b[1;33m)\u001b[0m\u001b[1;33m\u001b[0m\u001b[1;33m\u001b[0m\u001b[0m\n\u001b[0;32m      6\u001b[0m \u001b[0mstring\u001b[0m\u001b[1;33m,\u001b[0m\u001b[0mk\u001b[0m \u001b[1;33m=\u001b[0m \u001b[0minput\u001b[0m\u001b[1;33m(\u001b[0m\u001b[1;33m)\u001b[0m\u001b[1;33m.\u001b[0m\u001b[0msplit\u001b[0m\u001b[1;33m(\u001b[0m\u001b[1;33m)\u001b[0m\u001b[1;33m\u001b[0m\u001b[1;33m\u001b[0m\u001b[0m\n",
      "\u001b[1;32m~\\.conda\\envs\\rstudio\\lib\\textwrap.py\u001b[0m in \u001b[0;36mwrap\u001b[1;34m(self, text)\u001b[0m\n\u001b[0;32m    352\u001b[0m         \u001b[1;32mif\u001b[0m \u001b[0mself\u001b[0m\u001b[1;33m.\u001b[0m\u001b[0mfix_sentence_endings\u001b[0m\u001b[1;33m:\u001b[0m\u001b[1;33m\u001b[0m\u001b[1;33m\u001b[0m\u001b[0m\n\u001b[0;32m    353\u001b[0m             \u001b[0mself\u001b[0m\u001b[1;33m.\u001b[0m\u001b[0m_fix_sentence_endings\u001b[0m\u001b[1;33m(\u001b[0m\u001b[0mchunks\u001b[0m\u001b[1;33m)\u001b[0m\u001b[1;33m\u001b[0m\u001b[1;33m\u001b[0m\u001b[0m\n\u001b[1;32m--> 354\u001b[1;33m         \u001b[1;32mreturn\u001b[0m \u001b[0mself\u001b[0m\u001b[1;33m.\u001b[0m\u001b[0m_wrap_chunks\u001b[0m\u001b[1;33m(\u001b[0m\u001b[0mchunks\u001b[0m\u001b[1;33m)\u001b[0m\u001b[1;33m\u001b[0m\u001b[1;33m\u001b[0m\u001b[0m\n\u001b[0m\u001b[0;32m    355\u001b[0m \u001b[1;33m\u001b[0m\u001b[0m\n\u001b[0;32m    356\u001b[0m     \u001b[1;32mdef\u001b[0m \u001b[0mfill\u001b[0m\u001b[1;33m(\u001b[0m\u001b[0mself\u001b[0m\u001b[1;33m,\u001b[0m \u001b[0mtext\u001b[0m\u001b[1;33m)\u001b[0m\u001b[1;33m:\u001b[0m\u001b[1;33m\u001b[0m\u001b[1;33m\u001b[0m\u001b[0m\n",
      "\u001b[1;32m~\\.conda\\envs\\rstudio\\lib\\textwrap.py\u001b[0m in \u001b[0;36m_wrap_chunks\u001b[1;34m(self, chunks)\u001b[0m\n\u001b[0;32m    245\u001b[0m         \"\"\"\n\u001b[0;32m    246\u001b[0m         \u001b[0mlines\u001b[0m \u001b[1;33m=\u001b[0m \u001b[1;33m[\u001b[0m\u001b[1;33m]\u001b[0m\u001b[1;33m\u001b[0m\u001b[1;33m\u001b[0m\u001b[0m\n\u001b[1;32m--> 247\u001b[1;33m         \u001b[1;32mif\u001b[0m \u001b[0mself\u001b[0m\u001b[1;33m.\u001b[0m\u001b[0mwidth\u001b[0m \u001b[1;33m<=\u001b[0m \u001b[1;36m0\u001b[0m\u001b[1;33m:\u001b[0m\u001b[1;33m\u001b[0m\u001b[1;33m\u001b[0m\u001b[0m\n\u001b[0m\u001b[0;32m    248\u001b[0m             \u001b[1;32mraise\u001b[0m \u001b[0mValueError\u001b[0m\u001b[1;33m(\u001b[0m\u001b[1;34m\"invalid width %r (must be > 0)\"\u001b[0m \u001b[1;33m%\u001b[0m \u001b[0mself\u001b[0m\u001b[1;33m.\u001b[0m\u001b[0mwidth\u001b[0m\u001b[1;33m)\u001b[0m\u001b[1;33m\u001b[0m\u001b[1;33m\u001b[0m\u001b[0m\n\u001b[0;32m    249\u001b[0m         \u001b[1;32mif\u001b[0m \u001b[0mself\u001b[0m\u001b[1;33m.\u001b[0m\u001b[0mmax_lines\u001b[0m \u001b[1;32mis\u001b[0m \u001b[1;32mnot\u001b[0m \u001b[1;32mNone\u001b[0m\u001b[1;33m:\u001b[0m\u001b[1;33m\u001b[0m\u001b[1;33m\u001b[0m\u001b[0m\n",
      "\u001b[1;31mTypeError\u001b[0m: '<=' not supported between instances of 'str' and 'int'"
     ]
    }
   ],
   "source": [
    "merge_the_tools(string, k)"
   ]
  },
  {
   "cell_type": "code",
   "execution_count": 21,
   "metadata": {},
   "outputs": [
    {
     "output_type": "error",
     "ename": "TypeError",
     "evalue": "'NoneType' object is not subscriptable",
     "traceback": [
      "\u001b[1;31m---------------------------------------------------------------------------\u001b[0m",
      "\u001b[1;31mTypeError\u001b[0m                                 Traceback (most recent call last)",
      "\u001b[1;32m<ipython-input-21-60331c2ded49>\u001b[0m in \u001b[0;36m<module>\u001b[1;34m\u001b[0m\n\u001b[0;32m      6\u001b[0m             \u001b[0mcount\u001b[0m \u001b[1;33m-=\u001b[0m \u001b[1;36m1\u001b[0m\u001b[1;33m\u001b[0m\u001b[1;33m\u001b[0m\u001b[0m\n\u001b[0;32m      7\u001b[0m     \u001b[0mprint\u001b[0m\u001b[1;33m(\u001b[0m\u001b[0mcount\u001b[0m\u001b[1;33m)\u001b[0m\u001b[1;33m\u001b[0m\u001b[1;33m\u001b[0m\u001b[0m\n\u001b[1;32m----> 8\u001b[1;33m \u001b[0mminsort\u001b[0m\u001b[1;33m(\u001b[0m\u001b[0minput\u001b[0m\u001b[1;33m(\u001b[0m\u001b[1;33m)\u001b[0m\u001b[1;33m.\u001b[0m\u001b[0msplit\u001b[0m\u001b[1;33m(\u001b[0m\u001b[1;33m)\u001b[0m\u001b[1;33m)\u001b[0m\u001b[1;33m\u001b[0m\u001b[1;33m\u001b[0m\u001b[0m\n\u001b[0m",
      "\u001b[1;32m<ipython-input-21-60331c2ded49>\u001b[0m in \u001b[0;36mminsort\u001b[1;34m(a)\u001b[0m\n\u001b[0;32m      3\u001b[0m     \u001b[0mcount\u001b[0m \u001b[1;33m=\u001b[0m \u001b[0mlen\u001b[0m\u001b[1;33m(\u001b[0m\u001b[0ma\u001b[0m\u001b[1;33m)\u001b[0m\u001b[1;33m\u001b[0m\u001b[1;33m\u001b[0m\u001b[0m\n\u001b[0;32m      4\u001b[0m     \u001b[1;32mfor\u001b[0m \u001b[0mi\u001b[0m \u001b[1;32min\u001b[0m \u001b[0ma\u001b[0m\u001b[1;33m:\u001b[0m\u001b[1;33m\u001b[0m\u001b[1;33m\u001b[0m\u001b[0m\n\u001b[1;32m----> 5\u001b[1;33m         \u001b[1;32mif\u001b[0m \u001b[0mc\u001b[0m\u001b[1;33m[\u001b[0m\u001b[0mi\u001b[0m\u001b[1;33m]\u001b[0m \u001b[1;33m==\u001b[0m \u001b[0mi\u001b[0m\u001b[1;33m:\u001b[0m\u001b[1;33m\u001b[0m\u001b[1;33m\u001b[0m\u001b[0m\n\u001b[0m\u001b[0;32m      6\u001b[0m             \u001b[0mcount\u001b[0m \u001b[1;33m-=\u001b[0m \u001b[1;36m1\u001b[0m\u001b[1;33m\u001b[0m\u001b[1;33m\u001b[0m\u001b[0m\n\u001b[0;32m      7\u001b[0m     \u001b[0mprint\u001b[0m\u001b[1;33m(\u001b[0m\u001b[0mcount\u001b[0m\u001b[1;33m)\u001b[0m\u001b[1;33m\u001b[0m\u001b[1;33m\u001b[0m\u001b[0m\n",
      "\u001b[1;31mTypeError\u001b[0m: 'NoneType' object is not subscriptable"
     ]
    }
   ],
   "source": [
    "def minsort(a):\n",
    "    c = a.sort()\n",
    "    count = len(a)\n",
    "    for i in a:\n",
    "        if c[i] == i:\n",
    "            count -= 1\n",
    "    print(count)\n",
    "minsort(input().split())"
   ]
  },
  {
   "cell_type": "code",
   "execution_count": 32,
   "metadata": {},
   "outputs": [
    {
     "output_type": "execute_result",
     "data": {
      "text/plain": [
       "deque([[1, 2, 3]])"
      ]
     },
     "metadata": {},
     "execution_count": 32
    }
   ],
   "source": [
    "from collections import deque\n",
    "d = deque()\n",
    "d.append([1,2,3])\n",
    "d"
   ]
  },
  {
   "cell_type": "code",
   "execution_count": 38,
   "metadata": {},
   "outputs": [
    {
     "output_type": "execute_result",
     "data": {
      "text/plain": [
       "deque([[1, 2, 3]])"
      ]
     },
     "metadata": {},
     "execution_count": 38
    }
   ],
   "source": [
    " d.rotate(3)\n",
    "d"
   ]
  },
  {
   "cell_type": "code",
   "execution_count": 39,
   "metadata": {},
   "outputs": [
    {
     "output_type": "execute_result",
     "data": {
      "text/plain": [
       "4"
      ]
     },
     "metadata": {},
     "execution_count": 39
    }
   ],
   "source": [
    "x = 3\n",
    "y =4\n",
    "x,y = y,x\n",
    "x"
   ]
  },
  {
   "cell_type": "code",
   "execution_count": 40,
   "metadata": {},
   "outputs": [
    {
     "output_type": "execute_result",
     "data": {
      "text/plain": [
       "3"
      ]
     },
     "metadata": {},
     "execution_count": 40
    }
   ],
   "source": [
    "y"
   ]
  },
  {
   "cell_type": "code",
   "execution_count": 48,
   "metadata": {},
   "outputs": [
    {
     "output_type": "stream",
     "name": "stdout",
     "text": [
      "                                  2015\n\n      January                   February                   March\nMo Tu We Th Fr Sa Su      Mo Tu We Th Fr Sa Su      Mo Tu We Th Fr Sa Su\n          1  2  3  4                         1                         1\n 5  6  7  8  9 10 11       2  3  4  5  6  7  8       2  3  4  5  6  7  8\n12 13 14 15 16 17 18       9 10 11 12 13 14 15       9 10 11 12 13 14 15\n19 20 21 22 23 24 25      16 17 18 19 20 21 22      16 17 18 19 20 21 22\n26 27 28 29 30 31         23 24 25 26 27 28         23 24 25 26 27 28 29\n                                                    30 31\n\n       April                      May                       June\nMo Tu We Th Fr Sa Su      Mo Tu We Th Fr Sa Su      Mo Tu We Th Fr Sa Su\n       1  2  3  4  5                   1  2  3       1  2  3  4  5  6  7\n 6  7  8  9 10 11 12       4  5  6  7  8  9 10       8  9 10 11 12 13 14\n13 14 15 16 17 18 19      11 12 13 14 15 16 17      15 16 17 18 19 20 21\n20 21 22 23 24 25 26      18 19 20 21 22 23 24      22 23 24 25 26 27 28\n27 28 29 30               25 26 27 28 29 30 31      29 30\n\n        July                     August                  September\nMo Tu We Th Fr Sa Su      Mo Tu We Th Fr Sa Su      Mo Tu We Th Fr Sa Su\n       1  2  3  4  5                      1  2          1  2  3  4  5  6\n 6  7  8  9 10 11 12       3  4  5  6  7  8  9       7  8  9 10 11 12 13\n13 14 15 16 17 18 19      10 11 12 13 14 15 16      14 15 16 17 18 19 20\n20 21 22 23 24 25 26      17 18 19 20 21 22 23      21 22 23 24 25 26 27\n27 28 29 30 31            24 25 26 27 28 29 30      28 29 30\n                          31\n\n      October                   November                  December\nMo Tu We Th Fr Sa Su      Mo Tu We Th Fr Sa Su      Mo Tu We Th Fr Sa Su\n          1  2  3  4                         1          1  2  3  4  5  6\n 5  6  7  8  9 10 11       2  3  4  5  6  7  8       7  8  9 10 11 12 13\n12 13 14 15 16 17 18       9 10 11 12 13 14 15      14 15 16 17 18 19 20\n19 20 21 22 23 24 25      16 17 18 19 20 21 22      21 22 23 24 25 26 27\n26 27 28 29 30 31         23 24 25 26 27 28 29      28 29 30 31\n                          30\n\n"
     ]
    }
   ],
   "source": [
    "import calendar\n",
    "print(calendar.TextCalendar(firstweekday = 0).formatyear(2015))"
   ]
  },
  {
   "cell_type": "code",
   "execution_count": 50,
   "metadata": {},
   "outputs": [
    {
     "output_type": "execute_result",
     "data": {
      "text/plain": [
       "True"
      ]
     },
     "metadata": {},
     "execution_count": 50
    }
   ],
   "source": [
    "calendar.isleap(2020)"
   ]
  },
  {
   "cell_type": "code",
   "execution_count": 63,
   "metadata": {},
   "outputs": [
    {
     "output_type": "error",
     "ename": "ValueError",
     "evalue": "unconverted data remains:  ",
     "traceback": [
      "\u001b[1;31m---------------------------------------------------------------------------\u001b[0m",
      "\u001b[1;31mValueError\u001b[0m                                Traceback (most recent call last)",
      "\u001b[1;32m<ipython-input-63-7a3db236927b>\u001b[0m in \u001b[0;36m<module>\u001b[1;34m\u001b[0m\n\u001b[0;32m      2\u001b[0m \u001b[0mdate\u001b[0m\u001b[1;33m=\u001b[0m\u001b[0mstr\u001b[0m\u001b[1;33m(\u001b[0m\u001b[0minput\u001b[0m\u001b[1;33m(\u001b[0m\u001b[1;34m'Enter the date(for example:09 02 2019):'\u001b[0m\u001b[1;33m)\u001b[0m\u001b[1;33m)\u001b[0m\u001b[1;33m\u001b[0m\u001b[1;33m\u001b[0m\u001b[0m\n\u001b[0;32m      3\u001b[0m \u001b[0mday_name\u001b[0m\u001b[1;33m=\u001b[0m \u001b[1;33m[\u001b[0m\u001b[1;34m'Monday'\u001b[0m\u001b[1;33m,\u001b[0m \u001b[1;34m'Tuesday'\u001b[0m\u001b[1;33m,\u001b[0m \u001b[1;34m'Wednesday'\u001b[0m\u001b[1;33m,\u001b[0m \u001b[1;34m'Thursday'\u001b[0m\u001b[1;33m,\u001b[0m \u001b[1;34m'Friday'\u001b[0m\u001b[1;33m,\u001b[0m \u001b[1;34m'Saturday'\u001b[0m\u001b[1;33m,\u001b[0m\u001b[1;34m'Sunday'\u001b[0m\u001b[1;33m]\u001b[0m\u001b[1;33m\u001b[0m\u001b[1;33m\u001b[0m\u001b[0m\n\u001b[1;32m----> 4\u001b[1;33m \u001b[0mday\u001b[0m \u001b[1;33m=\u001b[0m \u001b[0mdatetime\u001b[0m\u001b[1;33m.\u001b[0m\u001b[0mdatetime\u001b[0m\u001b[1;33m.\u001b[0m\u001b[0mstrptime\u001b[0m\u001b[1;33m(\u001b[0m\u001b[0mdate\u001b[0m\u001b[1;33m,\u001b[0m \u001b[1;34m'%a %d %m %Y'\u001b[0m\u001b[1;33m)\u001b[0m\u001b[1;33m\u001b[0m\u001b[1;33m\u001b[0m\u001b[0m\n\u001b[0m\u001b[0;32m      5\u001b[0m \u001b[0mprint\u001b[0m\u001b[1;33m(\u001b[0m\u001b[0mday\u001b[0m\u001b[1;33m)\u001b[0m\u001b[1;33m\u001b[0m\u001b[1;33m\u001b[0m\u001b[0m\n",
      "\u001b[1;32m~\\.conda\\envs\\rstudio\\lib\\_strptime.py\u001b[0m in \u001b[0;36m_strptime_datetime\u001b[1;34m(cls, data_string, format)\u001b[0m\n\u001b[0;32m    575\u001b[0m     \"\"\"Return a class cls instance based on the input string and the\n\u001b[0;32m    576\u001b[0m     format string.\"\"\"\n\u001b[1;32m--> 577\u001b[1;33m     \u001b[0mtt\u001b[0m\u001b[1;33m,\u001b[0m \u001b[0mfraction\u001b[0m\u001b[1;33m,\u001b[0m \u001b[0mgmtoff_fraction\u001b[0m \u001b[1;33m=\u001b[0m \u001b[0m_strptime\u001b[0m\u001b[1;33m(\u001b[0m\u001b[0mdata_string\u001b[0m\u001b[1;33m,\u001b[0m \u001b[0mformat\u001b[0m\u001b[1;33m)\u001b[0m\u001b[1;33m\u001b[0m\u001b[1;33m\u001b[0m\u001b[0m\n\u001b[0m\u001b[0;32m    578\u001b[0m     \u001b[0mtzname\u001b[0m\u001b[1;33m,\u001b[0m \u001b[0mgmtoff\u001b[0m \u001b[1;33m=\u001b[0m \u001b[0mtt\u001b[0m\u001b[1;33m[\u001b[0m\u001b[1;33m-\u001b[0m\u001b[1;36m2\u001b[0m\u001b[1;33m:\u001b[0m\u001b[1;33m]\u001b[0m\u001b[1;33m\u001b[0m\u001b[1;33m\u001b[0m\u001b[0m\n\u001b[0;32m    579\u001b[0m     \u001b[0margs\u001b[0m \u001b[1;33m=\u001b[0m \u001b[0mtt\u001b[0m\u001b[1;33m[\u001b[0m\u001b[1;33m:\u001b[0m\u001b[1;36m6\u001b[0m\u001b[1;33m]\u001b[0m \u001b[1;33m+\u001b[0m \u001b[1;33m(\u001b[0m\u001b[0mfraction\u001b[0m\u001b[1;33m,\u001b[0m\u001b[1;33m)\u001b[0m\u001b[1;33m\u001b[0m\u001b[1;33m\u001b[0m\u001b[0m\n",
      "\u001b[1;32m~\\.conda\\envs\\rstudio\\lib\\_strptime.py\u001b[0m in \u001b[0;36m_strptime\u001b[1;34m(data_string, format)\u001b[0m\n\u001b[0;32m    360\u001b[0m     \u001b[1;32mif\u001b[0m \u001b[0mlen\u001b[0m\u001b[1;33m(\u001b[0m\u001b[0mdata_string\u001b[0m\u001b[1;33m)\u001b[0m \u001b[1;33m!=\u001b[0m \u001b[0mfound\u001b[0m\u001b[1;33m.\u001b[0m\u001b[0mend\u001b[0m\u001b[1;33m(\u001b[0m\u001b[1;33m)\u001b[0m\u001b[1;33m:\u001b[0m\u001b[1;33m\u001b[0m\u001b[1;33m\u001b[0m\u001b[0m\n\u001b[0;32m    361\u001b[0m         raise ValueError(\"unconverted data remains: %s\" %\n\u001b[1;32m--> 362\u001b[1;33m                           data_string[found.end():])\n\u001b[0m\u001b[0;32m    363\u001b[0m \u001b[1;33m\u001b[0m\u001b[0m\n\u001b[0;32m    364\u001b[0m     \u001b[0miso_year\u001b[0m \u001b[1;33m=\u001b[0m \u001b[0myear\u001b[0m \u001b[1;33m=\u001b[0m \u001b[1;32mNone\u001b[0m\u001b[1;33m\u001b[0m\u001b[1;33m\u001b[0m\u001b[0m\n",
      "\u001b[1;31mValueError\u001b[0m: unconverted data remains:  "
     ]
    }
   ],
   "source": [
    "import datetime \n",
    "date=str(input('Enter the date(for example:09 02 2019):'))\n",
    "day_name= ['Monday', 'Tuesday', 'Wednesday', 'Thursday', 'Friday', 'Saturday','Sunday']\n",
    "day = datetime.datetime.strptime(date, '%a %d %m %Y')\n",
    "print(day)"
   ]
  },
  {
   "cell_type": "code",
   "execution_count": 64,
   "metadata": {},
   "outputs": [
    {
     "output_type": "execute_result",
     "data": {
      "text/plain": [
       "10"
      ]
     },
     "metadata": {},
     "execution_count": 64
    }
   ],
   "source": [
    "x = 9\n",
    "eval('x+1')"
   ]
  },
  {
   "cell_type": "code",
   "execution_count": 9,
   "metadata": {},
   "outputs": [
    {
     "output_type": "stream",
     "name": "stdout",
     "text": [
      "2015-05-10 13:54:36-07:00\n2015-05-10 13:54:36+00:00\n25200.0\n"
     ]
    }
   ],
   "source": [
    "from datetime import datetime \n",
    "def time_delta(t1, t2):\n",
    "    f =\"%a %d %b %Y %H:%M:%S %z\"\n",
    "    dt1 = datetime.strptime(t1,f)\n",
    "    dt2 = datetime.strptime(t2,f)\n",
    "    diff = (dt1-dt2)\n",
    "    return str(diff))\n",
    "for _ in range(int(input())):\n",
    "        print(time_delta(input(), input()))\n"
   ]
  },
  {
   "cell_type": "code",
   "execution_count": 11,
   "metadata": {},
   "outputs": [
    {
     "output_type": "stream",
     "name": "stdout",
     "text": [
      "4\n"
     ]
    }
   ],
   "source": []
  },
  {
   "cell_type": "code",
   "execution_count": 16,
   "metadata": {},
   "outputs": [
    {
     "output_type": "stream",
     "name": "stdout",
     "text": [
      "[3, 1]\n"
     ]
    }
   ],
   "source": [
    "# utility function\n",
    "def jobOffers(scores, lowerLimits, upperLimits):\n",
    "    answer = []\n",
    "    for index, item in enumerate(lowerLimits):\n",
    "        dummy = []\n",
    "        for score in scores:\n",
    "            if score >= lowerLimits[index] and score <= upperLimits[index]:\n",
    "                dummy.append(score)\n",
    "        if dummy:\n",
    "            answer.append(len(dummy))\n",
    "    return answer\n",
    "\n",
    "# dummy inputs\n",
    "scores = [4,8,7]\n",
    "lowerLimits = [2,4]\n",
    "upperLimits = [8,4]\n",
    "\n",
    "print(jobOffers(scores,lowerLimits,upperLimits))"
   ]
  },
  {
   "cell_type": "code",
   "execution_count": 18,
   "metadata": {},
   "outputs": [
    {
     "output_type": "stream",
     "name": "stdout",
     "text": [
      "4\n"
     ]
    }
   ],
   "source": [
    "\n",
    "from collections import defaultdict\n",
    " \n",
    "MAX_CHARS = 256\n",
    " \n",
    "\n",
    "def findSubString(strr):\n",
    "     \n",
    "    n = len(strr)\n",
    "     \n",
    "\n",
    "    dist_count = len(set([x for x in strr]))\n",
    "     \n",
    "    curr_count = defaultdict(lambda: 0)\n",
    "    count = 0\n",
    "    start = 0\n",
    "    min_len = n\n",
    "     \n",
    "    \n",
    "    for j in range(n):\n",
    "        curr_count[strr[j]] += 1\n",
    "         \n",
    "        # If any distinct character matched,\n",
    "        # then increment count\n",
    "        if curr_count[strr[j]] == 1:\n",
    "            count += 1\n",
    "             \n",
    "        # Try to minimize the window i.e., check if\n",
    "        # any character is occurring more no. of times\n",
    "        # than its occurrence in pattern, if yes\n",
    "        # then remove it from starting and also remove\n",
    "        # the useless characters.\n",
    "        if count == dist_count:\n",
    "            while curr_count[strr[start]] > 1:\n",
    "                if curr_count[strr[start]] > 1:\n",
    "                    curr_count[strr[start]] -= 1\n",
    "                     \n",
    "                start += 1\n",
    "                 \n",
    "            # Update window size\n",
    "            len_window = j - start + 1\n",
    "             \n",
    "            if min_len > len_window:\n",
    "                min_len = len_window\n",
    "                start_index = start\n",
    " \n",
    "    # Return substring starting from start_index\n",
    "    # and length min_len \"\"\"\n",
    "    return str(strr[start_index: start_index +\n",
    "                                 min_len])\n",
    "                                  \n",
    "# Driver code\n",
    "if __name__=='__main__':\n",
    "     \n",
    "    d = findSubString(\"aabcbcdbca\")\n",
    "    print(len(d))"
   ]
  },
  {
   "cell_type": "code",
   "execution_count": 39,
   "metadata": {
    "tags": []
   },
   "outputs": [
    {
     "output_type": "stream",
     "name": "stdout",
     "text": [
      "[0, 1, 1, 8, 27, 125, 512, 2197, 9261, 39304, 166375, 704969, 2985984, 12649337, 53582633]\n"
     ]
    }
   ],
   "source": [
    "def fibonacci(n):\n",
    "    list = [0,1]\n",
    "    fibbonacci = [list.append(sum(list[-2:])) for i in range(2,n)]\n",
    "    return list\n",
    "cube = lambda x: x**3    \n",
    "print(list(map(cube,fibonacci(int(input())))))"
   ]
  },
  {
   "cell_type": "code",
   "execution_count": 18,
   "metadata": {},
   "outputs": [
    {
     "output_type": "stream",
     "name": "stdout",
     "text": [
      "Object `gcd` not found.\n"
     ]
    }
   ],
   "source": [
    "gcd??\n"
   ]
  },
  {
   "cell_type": "code",
   "execution_count": 21,
   "metadata": {},
   "outputs": [
    {
     "output_type": "execute_result",
     "data": {
      "text/plain": [
       "1"
      ]
     },
     "metadata": {},
     "execution_count": 21
    }
   ],
   "source": [
    "1%4\n"
   ]
  },
  {
   "cell_type": "code",
   "execution_count": 20,
   "metadata": {},
   "outputs": [
    {
     "output_type": "execute_result",
     "data": {
      "text/plain": [
       "2"
      ]
     },
     "metadata": {},
     "execution_count": 20
    }
   ],
   "source": [
    "2%3"
   ]
  },
  {
   "cell_type": "code",
   "execution_count": 31,
   "metadata": {},
   "outputs": [
    {
     "output_type": "execute_result",
     "data": {
      "text/plain": [
       "(3, 8)"
      ]
     },
     "metadata": {},
     "execution_count": 31
    }
   ],
   "source": [
    "from fractions import Fraction\n",
    "from functools import reduce\n",
    "fracs = [1/2,3/4]\n",
    "reduce(lambda x,y:x*y,fracs).as_integer_ratio()"
   ]
  },
  {
   "cell_type": "code",
   "execution_count": 37,
   "metadata": {},
   "outputs": [
    {
     "output_type": "stream",
     "name": "stdout",
     "text": [
      "(1, 4)\n0.25\n(1, 2)\n0.5\n(5, 4)\n1.25\n(3, 1)\n3\n"
     ]
    }
   ],
   "source": [
    "for f in (0.25, 0.5, 1.25, 3.0):\n",
    "...     print(f.as_integer_ratio())\n",
    "...     print(eval(str(Fraction(f))))"
   ]
  },
  {
   "cell_type": "code",
   "execution_count": 38,
   "metadata": {},
   "outputs": [
    {
     "output_type": "execute_result",
     "data": {
      "text/plain": [
       "['1', '4']"
      ]
     },
     "metadata": {},
     "execution_count": 38
    }
   ],
   "source": [
    "'1/4'.split('/')"
   ]
  },
  {
   "cell_type": "code",
   "execution_count": 40,
   "metadata": {},
   "outputs": [],
   "source": [
    "var = ['ant','bat','cat','Bat','Lion','Goat','Cat','Ant']\n",
    "\n",
    "var.sort(key=str.casefold)"
   ]
  },
  {
   "cell_type": "code",
   "execution_count": 41,
   "metadata": {},
   "outputs": [
    {
     "output_type": "execute_result",
     "data": {
      "text/plain": [
       "['ant', 'Ant', 'bat', 'Bat', 'cat', 'Cat', 'Goat', 'Lion']"
      ]
     },
     "metadata": {},
     "execution_count": 41
    }
   ],
   "source": [
    "var"
   ]
  },
  {
   "cell_type": "code",
   "execution_count": 43,
   "metadata": {},
   "outputs": [
    {
     "output_type": "stream",
     "name": "stdout",
     "text": [
      "Found\n"
     ]
    }
   ],
   "source": [
    "try:\n",
    "    \"fname\".index('.')\n",
    "except ValueError:\n",
    "    print(\"UNKNOWN\")\n",
    "else:\n",
    "    "
   ]
  },
  {
   "cell_type": "code",
   "execution_count": 52,
   "metadata": {},
   "outputs": [
    {
     "output_type": "error",
     "ename": "TypeError",
     "evalue": "'list' object is not callable",
     "traceback": [
      "\u001b[1;31m---------------------------------------------------------------------------\u001b[0m",
      "\u001b[1;31mTypeError\u001b[0m                                 Traceback (most recent call last)",
      "\u001b[1;32m<ipython-input-52-f25234d86bdb>\u001b[0m in \u001b[0;36m<module>\u001b[1;34m\u001b[0m\n\u001b[0;32m      2\u001b[0m \u001b[0msearch\u001b[0m \u001b[1;33m=\u001b[0m \u001b[1;34m'b'\u001b[0m\u001b[1;33m\u001b[0m\u001b[1;33m\u001b[0m\u001b[0m\n\u001b[0;32m      3\u001b[0m \u001b[0ma\u001b[0m \u001b[1;33m=\u001b[0m \u001b[0mfilter\u001b[0m\u001b[1;33m(\u001b[0m\u001b[1;32mlambda\u001b[0m \u001b[0mx\u001b[0m\u001b[1;33m:\u001b[0m\u001b[0mx\u001b[0m\u001b[1;33m==\u001b[0m\u001b[0msearch\u001b[0m\u001b[1;33m,\u001b[0m\u001b[0mlistt\u001b[0m\u001b[1;33m)\u001b[0m\u001b[1;33m\u001b[0m\u001b[1;33m\u001b[0m\u001b[0m\n\u001b[1;32m----> 4\u001b[1;33m \u001b[0mlist\u001b[0m\u001b[1;33m(\u001b[0m\u001b[0ma\u001b[0m\u001b[1;33m)\u001b[0m\u001b[1;33m\u001b[0m\u001b[1;33m\u001b[0m\u001b[0m\n\u001b[0m",
      "\u001b[1;31mTypeError\u001b[0m: 'list' object is not callable"
     ]
    }
   ],
   "source": [
    "listt = [ ['a','b'], ['a','c'], ['b','d'] ]\n",
    "search = 'b' \n",
    "a = filter(lambda x:x==search,listt)\n",
    "list(a)\n"
   ]
  },
  {
   "source": [
    "listt = [['a','b','c'],['d','e','f'],['g','h']]\n",
    "listt_no = 0\n",
    "pos = 0\n",
    "for x in range(0,len(listt)):\n",
    "    try:\n",
    "        pos = listt[x].index(input())\n",
    "        break\n",
    "    except:\n",
    "        print(\"UNKNOWN\")\n",
    "\n",
    "print(listt[x][pos+1])\n",
    "\n"
   ],
   "cell_type": "code",
   "metadata": {},
   "execution_count": 56,
   "outputs": [
    {
     "output_type": "stream",
     "name": "stdout",
     "text": [
      "c\n"
     ]
    }
   ]
  },
  {
   "cell_type": "code",
   "execution_count": 66,
   "metadata": {},
   "outputs": [
    {
     "output_type": "stream",
     "name": "stdout",
     "text": [
      "found\n"
     ]
    }
   ],
   "source": [
    " if \".\" in input():\n",
    "     print(\"found\")\n",
    " else:\n",
    "    print(\"UNKNOWN\")\n"
   ]
  },
  {
   "cell_type": "code",
   "execution_count": 77,
   "metadata": {},
   "outputs": [
    {
     "output_type": "error",
     "ename": "NameError",
     "evalue": "name 'file' is not defined",
     "traceback": [
      "\u001b[1;31m---------------------------------------------------------------------------\u001b[0m",
      "\u001b[1;31mNameError\u001b[0m                                 Traceback (most recent call last)",
      "\u001b[1;32m<ipython-input-77-b93af72e1bde>\u001b[0m in \u001b[0;36m<module>\u001b[1;34m\u001b[0m\n\u001b[0;32m      3\u001b[0m \u001b[0mf\u001b[0m\u001b[1;33m,\u001b[0m\u001b[1;33m*\u001b[0m\u001b[0mg\u001b[0m \u001b[1;33m=\u001b[0m \u001b[0mfname\u001b[0m\u001b[1;33m.\u001b[0m\u001b[0msplit\u001b[0m\u001b[1;33m(\u001b[0m\u001b[1;34m\".\"\u001b[0m\u001b[1;33m)\u001b[0m\u001b[1;33m\u001b[0m\u001b[1;33m\u001b[0m\u001b[0m\n\u001b[0;32m      4\u001b[0m \u001b[0mg\u001b[0m \u001b[1;33m=\u001b[0m\u001b[1;34m\".\"\u001b[0m\u001b[1;33m.\u001b[0m\u001b[0mjoin\u001b[0m\u001b[1;33m(\u001b[0m\u001b[0mg\u001b[0m\u001b[1;33m)\u001b[0m\u001b[1;33m\u001b[0m\u001b[1;33m\u001b[0m\u001b[0m\n\u001b[1;32m----> 5\u001b[1;33m \u001b[1;32mfor\u001b[0m \u001b[0mx\u001b[0m \u001b[1;32min\u001b[0m \u001b[0mfile\u001b[0m \u001b[1;33m:\u001b[0m\u001b[1;33m\u001b[0m\u001b[1;33m\u001b[0m\u001b[0m\n\u001b[0m\u001b[0;32m      6\u001b[0m     \u001b[1;32mif\u001b[0m \u001b[0mx\u001b[0m \u001b[1;32min\u001b[0m \u001b[0mfile\u001b[0m\u001b[1;33m:\u001b[0m\u001b[1;33m\u001b[0m\u001b[1;33m\u001b[0m\u001b[0m\n\u001b[0;32m      7\u001b[0m         \u001b[1;32mtry\u001b[0m\u001b[1;33m:\u001b[0m\u001b[1;33m\u001b[0m\u001b[1;33m\u001b[0m\u001b[0m\n",
      "\u001b[1;31mNameError\u001b[0m: name 'file' is not defined"
     ]
    }
   ],
   "source": [
    "files = [['html','text/html'],['png','image/png'],['gif','image/gif']]\n",
    "fname = input()\n",
    "f,*g = fname.split(\".\")\n",
    "g =\".\".join(g)\n",
    "for x in files :\n",
    "    if g in x:\n",
    "        try:\n",
    "            if exten in x:\n",
    "                    pos = files[x].index(exten)\n",
    "                    print(files[x][pos+1])\n",
    "                    break\n",
    "        except:\n",
    "            print(\"UNKNOWN\")\n",
    "        "
   ]
  },
  {
   "cell_type": "code",
   "execution_count": 84,
   "metadata": {},
   "outputs": [
    {
     "output_type": "execute_result",
     "data": {
      "text/plain": [
       "2"
      ]
     },
     "metadata": {},
     "execution_count": 84
    }
   ],
   "source": [
    "from collections import Counter\n",
    "s = \"HACKER\"\n",
    "s = Counter(s)\n",
    "sum = 0\n",
    "for vowels in \"aeiouy\".upper():\n",
    "    if s[vowels]:\n",
    "        sum += 1\n",
    "score = 0    \n",
    "if sum%2 == 0:\n",
    "    score = 2\n",
    "else:\n",
    "    score = 1\n",
    "score"
   ]
  },
  {
   "cell_type": "code",
   "execution_count": 94,
   "metadata": {},
   "outputs": [
    {
     "output_type": "execute_result",
     "data": {
      "text/plain": [
       "{11,\n",
       " 12,\n",
       " 13,\n",
       " 14,\n",
       " 15,\n",
       " 16,\n",
       " 17,\n",
       " 18,\n",
       " 19,\n",
       " 20,\n",
       " 21,\n",
       " 22,\n",
       " 23,\n",
       " 24,\n",
       " 25,\n",
       " 26,\n",
       " 27,\n",
       " 28,\n",
       " 29,\n",
       " 30,\n",
       " 31,\n",
       " 32,\n",
       " 33,\n",
       " 34,\n",
       " 35,\n",
       " 36,\n",
       " 37,\n",
       " 38,\n",
       " 39,\n",
       " 40,\n",
       " 41,\n",
       " 42,\n",
       " 43,\n",
       " 44,\n",
       " 45,\n",
       " 46,\n",
       " 47,\n",
       " 48,\n",
       " 49,\n",
       " 50,\n",
       " 51,\n",
       " 52,\n",
       " 53,\n",
       " 54,\n",
       " 55,\n",
       " 56,\n",
       " 57,\n",
       " 58,\n",
       " 59,\n",
       " 60,\n",
       " 61,\n",
       " 62,\n",
       " 63,\n",
       " 64,\n",
       " 65,\n",
       " 66,\n",
       " 67,\n",
       " 68}"
      ]
     },
     "metadata": {},
     "execution_count": 94
    }
   ],
   "source": [
    "l = range(69)\n",
    "a = filter(lambda x : x>10 and x<80 ,l)\n",
    "set(a)"
   ]
  },
  {
   "cell_type": "code",
   "execution_count": 99,
   "metadata": {},
   "outputs": [
    {
     "output_type": "execute_result",
     "data": {
      "text/plain": [
       "['gmail', 'com']"
      ]
     },
     "metadata": {},
     "execution_count": 99
    }
   ],
   "source": [
    "s = \"hackerrank@gmail.com\"\n",
    "list = s.split('@')\n",
    "list[1].split('.')"
   ]
  },
  {
   "cell_type": "code",
   "execution_count": 5,
   "metadata": {},
   "outputs": [
    {
     "output_type": "stream",
     "name": "stdout",
     "text": [
      "True\nFalse\n"
     ]
    }
   ],
   "source": [
    "N   = int(input())\n",
    "arr = list(map(int,input().split()))\n",
    "k   = int(input())          \n",
    "while N:\n",
    "    N = N-1\n",
    "    k = arr[k]\n",
    "    if k == 0:\n",
    "        print(\"True\")\n",
    "        break\n",
    "if not k :\n",
    "    print(\"False\")"
   ]
  },
  {
   "cell_type": "code",
   "execution_count": 7,
   "metadata": {},
   "outputs": [
    {
     "output_type": "execute_result",
     "data": {
      "text/plain": [
       "4"
      ]
     },
     "metadata": {},
     "execution_count": 7
    }
   ],
   "source": [
    "eval(input())"
   ]
  },
  {
   "cell_type": "code",
   "execution_count": 8,
   "metadata": {},
   "outputs": [
    {
     "output_type": "execute_result",
     "data": {
      "text/plain": [
       "4"
      ]
     },
     "metadata": {},
     "execution_count": 8
    }
   ],
   "source": [
    "int(input())"
   ]
  },
  {
   "cell_type": "code",
   "execution_count": 10,
   "metadata": {},
   "outputs": [
    {
     "output_type": "execute_result",
     "data": {
      "text/plain": [
       "int"
      ]
     },
     "metadata": {},
     "execution_count": 10
    }
   ],
   "source": [
    "type(eval(input()))"
   ]
  },
  {
   "cell_type": "code",
   "execution_count": 20,
   "metadata": {},
   "outputs": [],
   "source": [
    "class Employee:\n",
    "    'Common base for all employees'\n",
    "    emp_count = 0\n",
    "    def __init__(self,name,salary):\n",
    "        self.name = name\n",
    "        self.salary = salary\n",
    "        Employee.emp_count += 1\n",
    "    def dislay_count(self):\n",
    "        print(\"Total Employee %d\"%Employee.emp_count)\n",
    "    def displayEmployee(self):\n",
    "        print(\"Name:\",self.name,\",Salary:\",self.salary)\n",
    "\n"
   ]
  },
  {
   "cell_type": "code",
   "execution_count": 21,
   "metadata": {},
   "outputs": [
    {
     "output_type": "stream",
     "name": "stdout",
     "text": [
      "Name: Zara ,Salary: 2000\n"
     ]
    }
   ],
   "source": [
    "emp1 = Employee(\"Zara\",2000)\n",
    "emp2 = Employee(\"Manni\",5000)\n",
    "emp1.displayEmployee()"
   ]
  },
  {
   "cell_type": "code",
   "execution_count": 22,
   "metadata": {},
   "outputs": [
    {
     "output_type": "stream",
     "name": "stdout",
     "text": [
      "Name: Manni ,Salary: 5000\n"
     ]
    }
   ],
   "source": [
    "emp2.displayEmployee()"
   ]
  },
  {
   "cell_type": "code",
   "execution_count": 23,
   "metadata": {},
   "outputs": [
    {
     "output_type": "stream",
     "name": "stdout",
     "text": [
      "Total Employee 2\n"
     ]
    }
   ],
   "source": [
    "print(\"Total Employee %d\"%Employee.emp_count)"
   ]
  },
  {
   "cell_type": "code",
   "execution_count": 25,
   "metadata": {},
   "outputs": [
    {
     "output_type": "stream",
     "name": "stdout",
     "text": [
      "Employee.__doc__: Common base for all employees\n"
     ]
    }
   ],
   "source": [
    "print(\"Employee.__doc__:\",Employee.__doc__)"
   ]
  },
  {
   "cell_type": "code",
   "execution_count": 26,
   "metadata": {},
   "outputs": [
    {
     "output_type": "stream",
     "name": "stdout",
     "text": [
      "Employee.__doc__: Employee\n"
     ]
    }
   ],
   "source": [
    "print(\"Employee.__doc__:\",Employee.__name__)"
   ]
  },
  {
   "cell_type": "code",
   "execution_count": 28,
   "metadata": {},
   "outputs": [
    {
     "output_type": "stream",
     "name": "stdout",
     "text": [
      "Employee.__doc__: __main__\n"
     ]
    }
   ],
   "source": [
    "print(\"Employee.__doc__:\",Employee.__module__)"
   ]
  },
  {
   "cell_type": "code",
   "execution_count": 29,
   "metadata": {},
   "outputs": [
    {
     "output_type": "stream",
     "name": "stdout",
     "text": [
      "Employee.__doc__: (<class 'object'>,)\n"
     ]
    }
   ],
   "source": [
    "print(\"Employee.__doc__:\",Employee.__bases__)"
   ]
  },
  {
   "cell_type": "code",
   "execution_count": 30,
   "metadata": {},
   "outputs": [
    {
     "output_type": "stream",
     "name": "stdout",
     "text": [
      "Employee.__doc__: {'__module__': '__main__', '__doc__': 'Common base for all employees', 'emp_count': 2, '__init__': <function Employee.__init__ at 0x000001DBB758B048>, 'dislay_count': <function Employee.dislay_count at 0x000001DBB758BA60>, 'displayEmployee': <function Employee.displayEmployee at 0x000001DBB758B840>, '__dict__': <attribute '__dict__' of 'Employee' objects>, '__weakref__': <attribute '__weakref__' of 'Employee' objects>}\n"
     ]
    }
   ],
   "source": [
    "print(\"Employee.__doc__:\",Employee.__dict__)"
   ]
  },
  {
   "cell_type": "code",
   "execution_count": 33,
   "metadata": {},
   "outputs": [],
   "source": [
    "def point():\n",
    "    def __init__(self,x = 0 ,y = 0):\n",
    "        self.x = x\n",
    "        self.y = y\n",
    "    def __del__(self):\n",
    "        class_name = self.__class__.__name__\n",
    "        print(class_name,\"destroyed\")"
   ]
  },
  {
   "cell_type": "code",
   "execution_count": 34,
   "metadata": {},
   "outputs": [
    {
     "output_type": "stream",
     "name": "stdout",
     "text": [
      "140708662859792 140708662859792 140708662859792\n"
     ]
    }
   ],
   "source": [
    "pt1 = point()\n",
    "pt2 = pt1\n",
    "pt3 = pt2\n",
    "print(id(pt1),id(pt2),id(pt3))"
   ]
  },
  {
   "cell_type": "code",
   "execution_count": 35,
   "metadata": {},
   "outputs": [],
   "source": [
    "del pt1"
   ]
  },
  {
   "cell_type": "code",
   "execution_count": 36,
   "metadata": {},
   "outputs": [],
   "source": [
    "del pt2"
   ]
  },
  {
   "cell_type": "code",
   "execution_count": 37,
   "metadata": {},
   "outputs": [],
   "source": [
    "del pt3"
   ]
  },
  {
   "cell_type": "code",
   "execution_count": 42,
   "metadata": {},
   "outputs": [
    {
     "output_type": "execute_result",
     "data": {
      "text/plain": [
       "51084981466469576881306176261004598750272741624636207875758364885679783886389114119904367398214909451616865959797190085595957216060201081790863562740711392408402606162284424347926444168293770306459877429620549980121621880068812119922825565603750036793657428476498577316887890689284884464423522469162924654419945496940052746066950867784084753581540148194316888303839694860870357008235525028115281402379270279446743097868896180567901452872031734195056432576568754346528258569883526859826727735838654082246721751819658052692396270611348013013786739320229706009940781025586038809493013992111030432473321532228589636150722621360366978607484692870955691740723349227220367512994355146567475980006373400215826077949494335370591623671142026957923937669224771617167959359650439966392673073180139376563073706562200771241291710828132078928672693377605280698340976512622686207175259108984253979970269330591951400265868944014001740606398220709859461709972092316953639707607509036387468655214963966625322700932867195641466506305265122238332824677892386098873045477946570475614470735681011537762930068333229753461311175690053190276217215938122229254011663319535668562288276814566536254139944327446923749675156838399258655227114181067181300031191298489076680172983118121156086627360397334232174932132686080901569496392129263706595509472541921027039947595787992209537069031379517112985804276412719491334730247762876260753560199012424360211862466047511184797159731714330368251192307852167757615200611669009575630075581632200897019110165738489288234845801413542090086926381756642228872729319587724120647133695447658709466047131787467521648967375146176025775545958018149895570817463048968329692812003996105944812538484291689075721849889797647554854834050132592317503861422078077932841396250772305892378304960421024845815047928229669342818218960243579473180986996883486164613586224677782405363675732940386436560159992961462550218529921214223556288943276860000631422449845365510986932611414112386178573447134236164502410346254516421812825350152383907925299199371093902393126317590337340371199288380603694517035662665827287352023563128756402516081749705325705196477769315311164029733067419282135214232605607889159739038923579732630816548135472123812968829466513428484683760888731900685205308016495533252055718190142644320009683032677163609744614629730631454898167462966265387871725580083514565623719270635683662268663333999029883429331462872848995229714115709023973771126468913873648061531223428749576267079084534656923514931496743842559669386638509884709307166187205161445819828263679270112614012378542273837296427044021252077863706963514486218183806491868791174785424506337810550453063897866281127060200866754011181906809870372032953354528699094096145120997842075109057859226120844176454175393781254004382091350994101959406590175402086698874583611581937347003423449521223245166665792257252160462357733000925232292157683100179557359793926298007588370474068230320921987459976042606283566005158202572800000000000000000000000000000000000000000000000000000000000000000000000000000000000000000000000000000000000000000000000000000000000000000000000000000000000000000000000000000000000000000000000000000000000000000000000000000000000000000000000000000000000000000000000000000000000000000000000000000000000000000"
      ]
     },
     "metadata": {},
     "execution_count": 42
    }
   ],
   "source": [
    "def factorial(n):\n",
    "    if n == 0 or n == 1:\n",
    "        return 1\n",
    "    else:\n",
    "        return n*factorial(n-1)\n",
    "factorial(1234)"
   ]
  },
  {
   "cell_type": "code",
   "execution_count": 47,
   "metadata": {},
   "outputs": [
    {
     "output_type": "stream",
     "name": "stdout",
     "text": [
      "100\n"
     ]
    }
   ],
   "source": [
    "import math\n",
    "cx,cy = [int(i) for i in input().split()]\n",
    "r = int(input())\n",
    "n = int(input())\n",
    "sum1 = 0\n",
    "for i in range(n):\n",
    "    px,py = [int(j) for j in input().split()]\n",
    "    if (math.sqrt((cx-px)**2+(cy-py)**2) <= r):\n",
    "        sum1 += 1\n",
    "\n",
    "print(int((sum1/n)*100))"
   ]
  },
  {
   "cell_type": "code",
   "execution_count": 46,
   "metadata": {},
   "outputs": [
    {
     "output_type": "stream",
     "name": "stdout",
     "text": [
      "100\n"
     ]
    }
   ],
   "source": [
    "import sys\n",
    "import math\n",
    "\n",
    "# Auto-generated code below aims at helping you parse\n",
    "# the standard input according to the problem statement.\n",
    "\n",
    "cx, cy = [int(i) for i in input().split()]\n",
    "r = int(input())\n",
    "n = int(input())\n",
    "sum1=0\n",
    "for i in range(n):\n",
    "    px, py = [int(j) for j in input().split()]\n",
    "    if(math.sqrt((cx-px)**2+(cy-py)**2) <= r):\n",
    "        sum1+=1\n",
    "print(int((sum1/n)*100))\n"
   ]
  },
  {
   "cell_type": "code",
   "execution_count": 56,
   "metadata": {},
   "outputs": [
    {
     "output_type": "stream",
     "name": "stdout",
     "text": [
      "1 2 5 10 "
     ]
    }
   ],
   "source": [
    "n = int(input())\n",
    "if n == 1:\n",
    "    print(1)\n",
    "else:\n",
    "    for i in range(1,n+1):\n",
    "        if n%i == 0:\n",
    "            print(i,end = \" \")"
   ]
  },
  {
   "cell_type": "code",
   "execution_count": 57,
   "metadata": {},
   "outputs": [
    {
     "output_type": "execute_result",
     "data": {
      "text/plain": [
       "verlapped,\n",
       " subprocess.STARTUPINFO,\n",
       " subprocess.CompletedProcess,\n",
       " subprocess.Popen,\n",
       " string.Template,\n",
       " string.Formatter,\n",
       " logging.LogRecord,\n",
       " logging.PercentStyle,\n",
       " logging.Formatter,\n",
       " logging.BufferingFormatter,\n",
       " logging.Filter,\n",
       " logging.Filterer,\n",
       " logging.PlaceHolder,\n",
       " logging.Manager,\n",
       " logging.LoggerAdapter,\n",
       " zlib.Compress,\n",
       " zlib.Decompress,\n",
       " _bz2.BZ2Compressor,\n",
       " _bz2.BZ2Decompressor,\n",
       " _lzma.LZMACompressor,\n",
       " _lzma.LZMADecompressor,\n",
       " dis.Bytecode,\n",
       " inspect.BlockFinder,\n",
       " inspect._void,\n",
       " inspect._empty,\n",
       " inspect.Parameter,\n",
       " inspect.BoundArguments,\n",
       " inspect.Signature,\n",
       " six._LazyDescr,\n",
       " six._SixMetaPathImporter,\n",
       " Struct,\n",
       " unpack_iterator,\n",
       " traitlets.utils.sentinel.Sentinel,\n",
       " traitlets.traitlets._SimpleTest,\n",
       " traitlets.traitlets.link,\n",
       " traitlets.traitlets.directional_link,\n",
       " traitlets.traitlets.BaseDescriptor,\n",
       " traitlets.traitlets._CallbackWrapper,\n",
       " traitlets.traitlets.HasDescriptors,\n",
       " traitlets.traitlets.ForwardDeclaredMixin,\n",
       " decorator.FunctionMaker,\n",
       " _ast.AST,\n",
       " gettext.NullTranslations,\n",
       " argparse._AttributeHolder,\n",
       " argparse.HelpFormatter._Section,\n",
       " argparse.HelpFormatter,\n",
       " argparse.FileType,\n",
       " argparse._ActionsContainer,\n",
       " ast.NodeVisitor,\n",
       " _hashlib.HASH,\n",
       " _blake2.blake2b,\n",
       " _blake2.blake2s,\n",
       " _sha3.sha3_224,\n",
       " _sha3.sha3_256,\n",
       " _sha3.sha3_384,\n",
       " _sha3.sha3_512,\n",
       " _sha3.shake_128,\n",
       " _sha3.shake_256,\n",
       " _random.Random,\n",
       " traitlets.config.loader.ConfigLoader,\n",
       " textwrap.TextWrapper,\n",
       " pprint._safe_key,\n",
       " pprint.PrettyPrinter,\n",
       " urllib.parse._ResultMixinStr,\n",
       " urllib.parse._ResultMixinBytes,\n",
       " urllib.parse._NetlocResultMixinBase,\n",
       " pydoc.Doc,\n",
       " pydoc.Helper,\n",
       " pydoc.ModuleScanner,\n",
       " bdb.Bdb,\n",
       " bdb.Breakpoint,\n",
       " IPython.utils.coloransi.TermColors,\n",
       " IPython.utils.coloransi.InputTermColors,\n",
       " IPython.utils.coloransi.NoColors,\n",
       " IPython.utils.coloransi.ColorScheme,\n",
       " pygments.util.Future,\n",
       " IPython.core.excolors.Deprec,\n",
       " cmd.Cmd,\n",
       " codeop.Compile,\n",
       " codeop.CommandCompiler,\n",
       " code.InteractiveInterpreter,\n",
       " IPython.core.debugger.Tracer,\n",
       " CArgObject,\n",
       " _ctypes.CThunkObject,\n",
       " _ctypes._CData,\n",
       " _ctypes.CField,\n",
       " _ctypes.DictRemover,\n",
       " ctypes.CDLL,\n",
       " ctypes.LibraryLoader,\n",
       " shlex.shlex,\n",
       " IPython.utils._process_win32.AvoidUNCPath,\n",
       " IPython.core.crashhandler.CrashHandler,\n",
       " tempfile._RandomNameSequence,\n",
       " tempfile._TemporaryFileCloser,\n",
       " tempfile._TemporaryFileWrapper,\n",
       " tempfile.SpooledTemporaryFile,\n",
       " tempfile.TemporaryDirectory,\n",
       " pathlib._Flavour,\n",
       " pathlib._Accessor,\n",
       " pathlib._Selector,\n",
       " pathlib._TerminatingSelector,\n",
       " pathlib.PurePath,\n",
       " IPython.core.magic_arguments.ArgDecorator,\n",
       " mimetypes.MimeTypes,\n",
       " IPython.core.display.DisplayHandle,\n",
       " IPython.core.display.DisplayObject,\n",
       " datetime.date,\n",
       " datetime.timedelta,\n",
       " datetime.time,\n",
       " datetime.tzinfo,\n",
       " IPython.lib.pretty._PrettyPrinterBase,\n",
       " IPython.lib.pretty.Printable,\n",
       " IPython.lib.pretty.GroupQueue,\n",
       " pygments.filter.Filter,\n",
       " pygments.lexer.Lexer,\n",
       " pygments.lexer._inherit,\n",
       " pygments.lexer._PseudoMatch,\n",
       " pygments.lexer._This,\n",
       " pygments.lexer.default,\n",
       " pygments.lexer.LexerContext,\n",
       " pygments.formatter.Formatter,\n",
       " typing._Final,\n",
       " typing._Immutable,\n",
       " typing.Generic,\n",
       " typing._TypingEmpty,\n",
       " typing._TypingEllipsis,\n",
       " typing.NamedTuple,\n",
       " typing.io,\n",
       " typing.re,\n",
       " IPython.core.inputtransformer2.PromptStripper,\n",
       " IPython.core.inputtransformer2.TokenTransformBase,\n",
       " IPython.core.inputtransformer2.TransformerManager,\n",
       " IPython.core.magic.Bunch,\n",
       " IPython.core.magic.MagicAlias,\n",
       " concurrent.futures._base._Waiter,\n",
       " concurrent.futures._base._AcquireFutures,\n",
       " concurrent.futures._base.Future,\n",
       " concurrent.futures._base.Executor,\n",
       " selectors.BaseSelector,\n",
       " _socket.socket,\n",
       " _ssl._SSLContext,\n",
       " _ssl._SSLSocket,\n",
       " _ssl.MemoryBIO,\n",
       " _ssl.Session,\n",
       " ssl.SSLObject,\n",
       " asyncio.coroutines.CoroWrapper,\n",
       " asyncio.events.Handle,\n",
       " asyncio.events.AbstractServer,\n",
       " asyncio.events.AbstractEventLoop,\n",
       " asyncio.events.AbstractEventLoopPolicy,\n",
       " _asyncio.Future,\n",
       " _asyncio.FutureIter,\n",
       " TaskStepMethWrapper,\n",
       " TaskWakeupMethWrapper,\n",
       " _RunningLoopHolder,\n",
       " asyncio.futures.Future,\n",
       " asyncio.protocols.BaseProtocol,\n",
       " asyncio.transports.BaseTransport,\n",
       " asyncio.sslproto._SSLPipe,\n",
       " asyncio.locks._ContextManager,\n",
       " asyncio.locks._ContextManagerMixin,\n",
       " asyncio.locks.Event,\n",
       " asyncio.queues.Queue,\n",
       " asyncio.streams.StreamWriter,\n",
       " asyncio.streams.StreamReader,\n",
       " asyncio.subprocess.Process,\n",
       " _overlapped.Overlapped,\n",
       " asyncio.windows_utils.PipeHandle,\n",
       " asyncio.windows_events.PipeServer,\n",
       " asyncio.windows_events.IocpProactor,\n",
       " pickle._Framer,\n",
       " pickle._Unframer,\n",
       " pickle._Pickler,\n",
       " pickle._Unpickler,\n",
       " _pickle.Unpickler,\n",
       " _pickle.Pickler,\n",
       " _pickle.Pdata,\n",
       " _pickle.PicklerMemoProxy,\n",
       " _pickle.UnpicklerMemoProxy,\n",
       " pickleshare.PickleShareLink,\n",
       " IPython.core.autocall.IPyAutocall,\n",
       " IPython.core.macro.Macro,\n",
       " IPython.core.splitinput.LineInfo,\n",
       " IPython.core.alias.Alias,\n",
       " IPython.core.builtin_trap.__BuiltinUndefined,\n",
       " IPython.core.builtin_trap.__HideBuiltin,\n",
       " IPython.core.events.EventManager,\n",
       " IPython.core.displayhook.CapturingDisplayHook,\n",
       " IPython.utils.sentinel.Sentinel,\n",
       " IPython.core.formatters.FormatterABC,\n",
       " sqlite3.Row,\n",
       " sqlite3.Cursor,\n",
       " sqlite3.Connection,\n",
       " sqlite3Node,\n",
       " sqlite3.Cache,\n",
       " sqlite3.Statement,\n",
       " sqlite3.PrepareProtocol,\n",
       " IPython.core.history.DummyDB,\n",
       " IPython.core.logger.Logger,\n",
       " IPython.lib.display.IFrame,\n",
       " IPython.lib.display.FileLink,\n",
       " IPython.utils.capture.RichOutput,\n",
       " IPython.utils.capture.CapturedIO,\n",
       " IPython.utils.capture.capture_output,\n",
       " IPython.utils.io.IOStream,\n",
       " IPython.utils.io.Tee,\n",
       " IPython.core.hooks.CommandChainDispatcher,\n",
       " IPython.utils.strdispatch.StrDispatch,\n",
       " IPython.utils.syspathcontext.appended_to_syspath,\n",
       " IPython.utils.syspathcontext.prepended_to_syspath,\n",
       " IPython.utils.tempdir.NamedFileInTemporaryDirectory,\n",
       " IPython.utils.contexts.preserve_keys,\n",
       " IPython.utils.contexts.NoOpContext,\n",
       " IPython.core.async_helpers._AsyncIORunner,\n",
       " IPython.core.interactiveshell.DummyMod,\n",
       " IPython.core.interactiveshell.ExecutionInfo,\n",
       " IPython.core.interactiveshell.ExecutionResult,\n",
       " IPython.core.interactiveshell.InteractiveShellABC,\n",
       " prompt_toolkit.eventloop.base.EventLoop,\n",
       " prompt_toolkit.cache.SimpleCache,\n",
       " prompt_toolkit.utils.Event,\n",
       " prompt_toolkit.utils.DummyContext,\n",
       " prompt_toolkit.eventloop.context.context,\n",
       " prompt_toolkit.eventloop.context.TaskLocal,\n",
       " prompt_toolkit.eventloop.future.Future,\n",
       " prompt_toolkit.eventloop.coroutine._FutureRef,\n",
       " _queue.SimpleQueue,\n",
       " queue.Queue,\n",
       " queue._PySimpleQueue,\n",
       " prompt_toolkit.eventloop.async_generator.AsyncGeneratorItem,\n",
       " prompt_toolkit.eventloop.event.Event,\n",
       " prompt_toolkit.filters.base.Filter,\n",
       " prompt_toolkit.enums.EditingMode,\n",
       " prompt_toolkit.auto_suggest.Suggestion,\n",
       " prompt_toolkit.auto_suggest.AutoSuggest,\n",
       " prompt_toolkit.selection.SelectionType,\n",
       " prompt_toolkit.selection.PasteMode,\n",
       " prompt_toolkit.selection.SelectionState,\n",
       " prompt_toolkit.clipboard.base.ClipboardData,\n",
       " prompt_toolkit.clipboard.base.Clipboard,\n",
       " prompt_toolkit.completion.base.Completion,\n",
       " prompt_toolkit.completion.base.CompleteEvent,\n",
       " prompt_toolkit.completion.base.Completer,\n",
       " prompt_toolkit.document._DocumentCache,\n",
       " prompt_toolkit.document.Document,\n",
       " prompt_toolkit.history.History,\n",
       " prompt_toolkit.keys.Keys,\n",
       " prompt_toolkit.key_binding.key_bindings._Binding,\n",
       " prompt_toolkit.key_binding.key_bindings.KeyBindingsBase,\n",
       " prompt_toolkit.key_binding.vi_state.InputMode,\n",
       " prompt_toolkit.key_binding.vi_state.CharacterFind,\n",
       " prompt_toolkit.key_binding.vi_state.ViState,\n",
       " prompt_toolkit.search.SearchDirection,\n",
       " prompt_toolkit.search.SearchState,\n",
       " prompt_toolkit.validation.Validator,\n",
       " prompt_toolkit.buffer.ValidationState,\n",
       " prompt_toolkit.buffer.CompletionState,\n",
       " prompt_toolkit.buffer.YankNthArgState,\n",
       " prompt_toolkit.buffer.Buffer,\n",
       " prompt_toolkit.input.base.Input,\n",
       " prompt_toolkit.key_binding.key_processor.KeyPress,\n",
       " prompt_toolkit.key_binding.key_processor.KeyProcessor,\n",
       " prompt_toolkit.key_binding.key_processor.KeyPressEvent,\n",
       " prompt_toolkit.input.vt100_parser._Flush,\n",
       " prompt_toolkit.input.vt100_parser.Vt100Parser,\n",
       " prompt_toolkit.key_binding.bindings.vi.TextObjectType,\n",
       " prompt_toolkit.key_binding.bindings.vi.TextObject,\n",
       " prompt_toolkit.formatted_text.base.Template,\n",
       " xml.dom.Node,\n",
       " xml.dom.UserDataHandler,\n",
       " xml.dom.NodeFilter.NodeFilter,\n",
       " xml.dom.xmlbuilder.Options,\n",
       " xml.dom.xmlbuilder.DOMBuilder,\n",
       " xml.dom.xmlbuilder.DOMEntityResolver,\n",
       " xml.dom.xmlbuilder.DOMInputSource,\n",
       " xml.dom.xmlbuilder.DOMBuilderFilter,\n",
       " xml.dom.xmlbuilder.DocumentLS,\n",
       " xml.dom.xmlbuilder.DOMImplementationLS,\n",
       " xml.dom.minidom.NamedNodeMap,\n",
       " xml.dom.minidom.TypeInfo,\n",
       " xml.dom.minidom.Childless,\n",
       " xml.dom.minidom.ReadOnlySequentialNamedNodeMap,\n",
       " xml.dom.minidom.Identified,\n",
       " xml.dom.minidom.ElementInfo,\n",
       " prompt_toolkit.formatted_text.html.HTML,\n",
       " prompt_toolkit.layout.screen.Char,\n",
       " prompt_toolkit.layout.screen.Screen,\n",
       " prompt_toolkit.layout.screen.WritePosition,\n",
       " prompt_toolkit.output.base.Output,\n",
       " prompt_toolkit.output.color_depth.ColorDepth,\n",
       " prompt_toolkit.styles.base.BaseStyle,\n",
       " prompt_toolkit.styles.style.Priority,\n",
       " prompt_toolkit.styles.style_transformation.StyleTransformation,\n",
       " array.array,\n",
       " prompt_toolkit.formatted_text.ansi.ANSI,\n",
       " prompt_toolkit.formatted_text.pygments.PygmentsTokens,\n",
       " prompt_toolkit.lexers.base.Lexer,\n",
       " prompt_toolkit.lexers.pygments.SyntaxSync,\n",
       " prompt_toolkit.mouse_events.MouseEventType,\n",
       " prompt_toolkit.mouse_events.MouseEvent,\n",
       " prompt_toolkit.layout.processors.Processor,\n",
       " prompt_toolkit.layout.processors.TransformationInput,\n",
       " prompt_toolkit.layout.processors.Transformation,\n",
       " prompt_toolkit.layout.controls.UIControl,\n",
       " prompt_toolkit.layout.controls.UIContent,\n",
       " prompt_toolkit.layout.dimension.Dimension,\n",
       " prompt_toolkit.layout.margins.Margin,\n",
       " prompt_toolkit.layout.containers.Container,\n",
       " prompt_toolkit.layout.containers.VerticalAlign,\n",
       " prompt_toolkit.layout.containers.HorizontalAlign,\n",
       " prompt_toolkit.layout.containers.Float,\n",
       " prompt_toolkit.layout.containers.WindowRenderInfo,\n",
       " prompt_toolkit.layout.containers.ScrollOffsets,\n",
       " prompt_toolkit.layout.containers.ColorColumn,\n",
       " prompt_toolkit.layout.containers.WindowAlign,\n",
       " prompt_toolkit.layout.layout.Layout,\n",
       " prompt_toolkit.layout.mouse_handlers.MouseHandlers,\n",
       " prompt_toolkit.renderer.CPR_Support,\n",
       " prompt_toolkit.renderer.Renderer,\n",
       " prompt_toolkit.key_binding.emacs_state.EmacsState,\n",
       " prompt_toolkit.application.application.Application,\n",
       " prompt_toolkit.widgets.toolbars.SystemToolbar,\n",
       " prompt_toolkit.widgets.toolbars.ArgToolbar,\n",
       " prompt_toolkit.widgets.toolbars.SearchToolbar,\n",
       " prompt_toolkit.widgets.toolbars.CompletionsToolbar,\n",
       " prompt_toolkit.widgets.toolbars.ValidationToolbar,\n",
       " prompt_toolkit.widgets.base.Border,\n",
       " prompt_toolkit.widgets.base.TextArea,\n",
       " prompt_toolkit.widgets.base.Label,\n",
       " prompt_toolkit.widgets.base.Button,\n",
       " prompt_toolkit.widgets.base.Frame,\n",
       " prompt_toolkit.widgets.base.Shadow,\n",
       " prompt_toolkit.widgets.base.Box,\n",
       " prompt_toolkit.widgets.base.Checkbox,\n",
       " prompt_toolkit.widgets.base.RadioList,\n",
       " prompt_toolkit.widgets.base.VerticalLine,\n",
       " prompt_toolkit.widgets.base.HorizontalLine,\n",
       " prompt_toolkit.widgets.base.ProgressBar,\n",
       " prompt_toolkit.widgets.dialogs.Dialog,\n",
       " prompt_toolkit.widgets.menus.MenuContainer,\n",
       " prompt_toolkit.widgets.menus.MenuItem,\n",
       " prompt_toolkit.shortcuts.prompt.CompleteStyle,\n",
       " prompt_toolkit.shortcuts.prompt.PromptSession,\n",
       " prompt_toolkit.shortcuts.progress_bar.formatters.Formatter,\n",
       " prompt_toolkit.shortcuts.progress_bar.base.ProgressBar,\n",
       " prompt_toolkit.shortcuts.progress_bar.base.ProgressBarCounter,\n",
       " prompt_toolkit.patch_stdout.StdoutProxy,\n",
       " pygments.style.Style,\n",
       " parso.tree.NodeOrLeaf,\n",
       " parso.python.token.TokenType,\n",
       " parso.python.token.TokenTypes,\n",
       " parso.python.tokenize.FStringNode,\n",
       " parso.pgen2.grammar_parser.GrammarParser,\n",
       " parso.pgen2.grammar_parser.NFAArc,\n",
       " parso.pgen2.grammar_parser.NFAState,\n",
       " parso.pgen2.generator.Grammar,\n",
       " parso.pgen2.generator.DFAPlan,\n",
       " parso.pgen2.generator.DFAState,\n",
       " parso.pgen2.generator.ReservedString,\n",
       " parso.parser.StackNode,\n",
       " parso.parser.BaseParser,\n",
       " difflib.SequenceMatcher,\n",
       " difflib.Differ,\n",
       " difflib.HtmlDiff,\n",
       " parso.python.prefix.PrefixPart,\n",
       " parso.python.tree.DocstringMixin,\n",
       " parso.python.tree.PythonMixin,\n",
       " parso.python.tree._StringComparisonMixin,\n",
       " parso.python.diff.DiffParser,\n",
       " parso.python.diff._NodesTreeNode,\n",
       " parso.python.diff._NodesTree,\n",
       " parso.cache._NodeCacheItem,\n",
       " parso.normalizer.HackClass,\n",
       " parso.normalizer.NormalizerConfig,\n",
       " parso.normalizer.Issue,\n",
       " parso.normalizer.Rule,\n",
       " parso.python.errors._Context,\n",
       " parso.python.pep8.IndentationTypes,\n",
       " parso.python.pep8.IndentationNode,\n",
       " parso.file_io.FileIO,\n",
       " parso.grammar.Grammar,\n",
       " jedi._compatibility.DummyFile,\n",
       " jedi._compatibility.ImplicitNSInfo,\n",
       " jedi._compatibility.Python3Method,\n",
       " jedi.debug.Fore,\n",
       " jedi.evaluate.utils.PushBackIterator,\n",
       " jedi.common.context.BaseContext,\n",
       " jedi.common.context.BaseContextSet,\n",
       " jedi.evaluate.base_context.ContextualizedNode,\n",
       " jedi.evaluate.recursion.RecursionDetector,\n",
       " jedi.evaluate.recursion.ExecutionRecursionDetector,\n",
       " jedi.evaluate.flow_analysis.Status,\n",
       " jedi.evaluate.filters.AbstractNameDefinition,\n",
       " jedi.evaluate.filters.ContextNameMixin,\n",
       " jedi.evaluate.filters.AbstractFilter,\n",
       " jedi.evaluate.filters.MergedFilter,\n",
       " jedi._compatibility.Py2CompatibilityMetaClass,\n",
       " jedi.evaluate.lazy_context.AbstractLazyContext,\n",
       " jedi.evaluate.compiled.access.AccessPath,\n",
       " jedi.evaluate.compiled.access.DirectObjectAccess,\n",
       " jedi.evaluate.compiled.access._SPECIAL_OBJECTS,\n",
       " jedi.evaluate.compiled.context.CheckAttribute,\n",
       " jedi.evaluate.analysis.Error,\n",
       " jedi.evaluate.imports.ModuleCache,\n",
       " jedi.evaluate.imports.Importer,\n",
       " jedi.evaluate.context.iterable.IterableMixin,\n",
       " jedi.evaluate.context.iterable.ComprehensionMixin,\n",
       " jedi.evaluate.context.iterable._ArrayInstance,\n",
       " jedi.evaluate.param.ExecutedParam,\n",
       " jedi.evaluate.arguments.AbstractArguments,\n",
       " jedi.evaluate.context.instance.InstanceExecutedParam,\n",
       " jedi.evaluate.context.instance.LazyInstanceClassName,\n",
       " jedi.evaluate.finder.NameFinder,\n",
       " jedi.evaluate.Evaluator,\n",
       " jedi.api.keywords.Keyword,\n",
       " jedi.api.classes.BaseDefinition,\n",
       " jedi.api.classes._Help,\n",
       " jedi.evaluate.compiled.mixed.MixedObject,\n",
       " jedi.api.interpreter.NamespaceObject,\n",
       " jedi.api.completion.Completion,\n",
       " filecmp.dircmp,\n",
       " jedi.evaluate.compiled.subprocess._EvaluatorProcess,\n",
       " jedi.evaluate.compiled.subprocess.CompiledSubprocess,\n",
       " jedi.evaluate.compiled.subprocess.Listener,\n",
       " jedi.evaluate.compiled.subprocess.AccessHandle,\n",
       " jedi.api.environment._BaseEnvironment,\n",
       " jedi.api.project.Project,\n",
       " jedi.api.Script,\n",
       " IPython.core.completer._FakeJediCompletion,\n",
       " IPython.core.completer.Completion,\n",
       " IPython.core.completer.CompletionSplitter,\n",
       " IPython.terminal.prompts.Prompts,\n",
       " IPython.core.magics.basic.MagicsDisplay,\n",
       " email.charset.Charset,\n",
       " email.header.Header,\n",
       " email.header._ValueFormatter,\n",
       " calendar._localized_month,\n",
       " calendar._localized_day,\n",
       " calendar.Calendar,\n",
       " calendar.different_locale,\n",
       " email._parseaddr.AddrlistClass,\n",
       " email._policybase._PolicyBase,\n",
       " email.feedparser.BufferedSubFile,\n",
       " email.feedparser.FeedParser,\n",
       " email.parser.Parser,\n",
       " email.parser.BytesParser,\n",
       " email.message.Message,\n",
       " http.client.HTTPConnection,\n",
       " urllib.request.Request,\n",
       " urllib.request.OpenerDirector,\n",
       " urllib.request.BaseHandler,\n",
       " urllib.request.HTTPPasswordMgr,\n",
       " urllib.request.AbstractBasicAuthHandler,\n",
       " urllib.request.AbstractDigestAuthHandler,\n",
       " urllib.request.URLopener,\n",
       " urllib.request.ftpwrapper,\n",
       " timeit.Timer,\n",
       " _lsprof.Profiler,\n",
       " profile._Utils,\n",
       " profile.Profile.fake_code,\n",
       " profile.Profile.fake_frame,\n",
       " profile.Profile,\n",
       " pstats.Stats,\n",
       " pstats.TupleComp,\n",
       " IPython.core.magics.execution.TimeitResult,\n",
       " IPython.lib.backgroundjobs.BackgroundJobManager,\n",
       " cython_function_or_method,\n",
       " zmq.backend.cython.message.MessageTracker,\n",
       " zmq.backend.cython.message.Frame,\n",
       " zmq.backend.cython.context.Context,\n",
       " zmq.backend.cython.socket.Socket,\n",
       " zmq.sugar.attrsettr.AttributeSetter,\n",
       " zmq.sugar.poll.Poller,\n",
       " zmq.sugar.tracker.MessageTracker,\n",
       " zmq.sugar.stopwatch.Stopwatch,\n",
       " abc._NewBase,\n",
       " abc._NewBase,\n",
       " abc._NewBase,\n",
       " jupyter_client.blocking.channels.ZMQSocketChannel,\n",
       " uuid.UUID,\n",
       " numbers.Number,\n",
       " logging.handlers.QueueListener,\n",
       " tornado.util.GzipDecompressor,\n",
       " tornado.util.Configurable,\n",
       " tornado.util.ArgReplacer,\n",
       " colorama.ansi.AnsiCodes,\n",
       " colorama.ansi.AnsiCursor,\n",
       " colorama.winterm.WinColor,\n",
       " colorama.winterm.WinStyle,\n",
       " colorama.winterm.WinTerm,\n",
       " colorama.ansitowin32.StreamWrapper,\n",
       " colorama.ansitowin32.AnsiToWin32,\n",
       " tornado.ioloop._Selectable,\n",
       " tornado.ioloop._Timeout,\n",
       " tornado.ioloop.PeriodicCallback,\n",
       " tornado.gen.WaitIterator,\n",
       " tornado.gen._NullFuture,\n",
       " tornado.gen.Runner,\n",
       " zmq.eventloop.zmqstream.ZMQStream,\n",
       " imp.NullImporter,\n",
       " imp._HackedGetData,\n",
       " hmac.HMAC,\n",
       " decimal.Decimal,\n",
       " decimal.Context,\n",
       " decimal.SignalDictMixin,\n",
       " decimal.ContextManager,\n",
       " dateutil._common.weekday,\n",
       " dateutil.relativedelta.relativedelta,\n",
       " dateutil.tz.win.tzres,\n",
       " dateutil.tz.tz._ttinfo,\n",
       " dateutil.tz.tz._tzfile,\n",
       " dateutil.tz.tz._tzicalvtzcomp,\n",
       " dateutil.tz.tz.tzical,\n",
       " dateutil.tz.tz.__get_gettz.<locals>.GettzFunc,\n",
       " dateutil.tz.tz._nullcontext,\n",
       " dateutil.parser._parser._timelex,\n",
       " dateutil.parser._parser._resultbase,\n",
       " dateutil.parser._parser.parserinfo,\n",
       " dateutil.parser._parser.parser,\n",
       " dateutil.parser._parser._tzparser,\n",
       " dateutil.parser.isoparser.isoparser,\n",
       " _strptime.LocaleTime,\n",
       " jupyter_client.adapter.Adapter,\n",
       " jupyter_client.session.Message,\n",
       " ipykernel.iostream.IOPubThread,\n",
       " ipykernel.iostream.BackgroundSocket,\n",
       " tornado.locks._TimeoutGarbageCollector,\n",
       " tornado.locks.Event,\n",
       " tornado.locks._ReleasingContextManager,\n",
       " tornado.locks.Lock,\n",
       " ipykernel.displayhook.ZMQDisplayHook,\n",
       " ipykernel.pickleutil.CannedObject,\n",
       " jedi.evaluate.dynamic.DynamicExecutedParams,\n",
       " __main__.Employee,\n",
       " sphinx.deprecation._ModuleWrapper,\n",
       " docutils.SettingsSpec,\n",
       " docutils.TransformSpec,\n",
       " docutils.nodes.Node,\n",
       " docutils.nodes.Resolvable,\n",
       " docutils.nodes.BackLinkable,\n",
       " docutils.nodes.Root,\n",
       " docutils.nodes.Titular,\n",
       " docutils.nodes.PreBibliographic,\n",
       " docutils.nodes.Bibliographic,\n",
       " docutils.nodes.Structural,\n",
       " docutils.nodes.Body,\n",
       " docutils.nodes.Part,\n",
       " docutils.nodes.Inline,\n",
       " docutils.nodes.Labeled,\n",
       " docutils.nodes.NodeVisitor,\n",
       " docutils.utils.error_reporting.SafeString,\n",
       " docutils.utils.error_reporting.ErrorOutput,\n",
       " docutils.utils.Reporter,\n",
       " docutils.utils.DependencyList,\n",
       " docutils.statemachine.StateMachine,\n",
       " docutils.statemachine.State,\n",
       " docutils.statemachine._SearchOverride,\n",
       " docutils.statemachine.ViewList,\n",
       " sphinx.util.logging.LogCollector,\n",
       " sphinx.util.logging.SafeEncodingWriter,\n",
       " sphinx.util.logging.LastMessagesWriter,\n",
       " sphinx.util.osutil.FileAvoidWrite,\n",
       " docutils.utils.smartquotes.smartchars,\n",
       " distutils.version.Version,\n",
       " docutils.parsers.rst.tableparser.TableParser,\n",
       " docutils.utils.code_analyzer.Lexer,\n",
       " docutils.utils.code_analyzer.NumberLines,\n",
       " docutils.parsers.rst.roles.GenericRole,\n",
       " docutils.parsers.rst.roles.CustomRole,\n",
       " docutils.parsers.rst.states.Struct,\n",
       " docutils.parsers.rst.states.Inliner,\n",
       " configparser.Interpolation,\n",
       " optparse.HelpFormatter,\n",
       " optparse.Option,\n",
       " optparse.Values,\n",
       " optparse.OptionContainer,\n",
       " docutils.transforms.Transform,\n",
       " docutils.parsers.rst.Directive,\n",
       " sphinx.util.docutils.sphinx_domains,\n",
       " sphinx.util.docutils.WarningStream,\n",
       " sphinx.util.docutils.SphinxRole,\n",
       " sphinx.addnodes.not_smartquotable,\n",
       " sphinx.util.nodes.NodeMatcher,\n",
       " sphinx.util.matching.Matcher,\n",
       " sphinx.util.UnicodeDecodeErrorHandler,\n",
       " sphinx.util.Tee,\n",
       " sphinx.util.PeekableIterator,\n",
       " sphinx.util.progress_message,\n",
       " babel.localedata.Alias,\n",
       " babel.plural.PluralRule,\n",
       " babel.plural._Parser,\n",
       " babel.plural._Compiler,\n",
       " babel.core.Locale,\n",
       " babel.dates.TimezoneTransition,\n",
       " babel.dates.DateTimePattern,\n",
       " babel.dates.DateTimeFormat,\n",
       " cgi.MiniFieldStorage,\n",
       " cgi.FieldStorage,\n",
       " babel.messages.catalog.Message,\n",
       " babel.messages.catalog.Catalog,\n",
       " babel.messages.pofile._NormalizedString,\n",
       " babel.messages.pofile.PoFileParser,\n",
       " sphinx.util.i18n.CatalogRepository,\n",
       " sphinx.util.pycompat.UnicodeMixin,\n",
       " sphinx.config.ENUM,\n",
       " sphinx.config.Config,\n",
       " sphinx.util.inspect.Parameter,\n",
       " sphinx.util.inspect.Signature,\n",
       " sphinx.ext.autodoc.mock._MockObject,\n",
       " zipfile.ZipInfo,\n",
       " zipfile.LZMACompressor,\n",
       " zipfile.LZMADecompressor,\n",
       " zipfile._SharedFile,\n",
       " zipfile._Tellable,\n",
       " zipfile.ZipFile,\n",
       " sphinx.pycode.parser.Token,\n",
       " sphinx.pycode.parser.TokenProcessor,\n",
       " sphinx.pycode.parser.Parser,\n",
       " sphinx.pycode.ModuleAnalyzer,\n",
       " sphinx.ext.autodoc.Documenter,\n",
       " sphinx.ext.autodoc.DocstringSignatureMixin,\n",
       " numpydoc.docscrape.Reader]"
      ]
     },
     "metadata": {},
     "execution_count": 57
    }
   ],
   "source": [
    "eval('(1).__class__.__bases__[0].__subclasses__()', {'__builtins__': None})"
   ]
  },
  {
   "cell_type": "code",
   "execution_count": null,
   "metadata": {},
   "outputs": [],
   "source": []
  },
  {
   "cell_type": "code",
   "execution_count": 58,
   "metadata": {},
   "outputs": [
    {
     "output_type": "execute_result",
     "data": {
      "text/plain": [
       "7"
      ]
     },
     "metadata": {},
     "execution_count": 58
    }
   ],
   "source": [
    "eval(\"1+2*3\")"
   ]
  },
  {
   "cell_type": "code",
   "execution_count": 63,
   "metadata": {},
   "outputs": [
    {
     "output_type": "stream",
     "name": "stdout",
     "text": [
      "TGCA\n"
     ]
    }
   ],
   "source": [
    "dna = input()\n",
    "dna =  dna.replace(\"T\",\"t\")\n",
    "dna = dna.replace(\"G\",\"g\")\n",
    "dna = dna.replace(\"A\",\"T\")\n",
    "dna = dna.replace(\"C\",\"G\")\n",
    "dna = dna.replace(\"t\",\"A\")\n",
    "dna = dna.replace(\"g\",\"C\")\n",
    "print(dna)"
   ]
  },
  {
   "cell_type": "code",
   "execution_count": 66,
   "metadata": {},
   "outputs": [
    {
     "output_type": "stream",
     "name": "stdout",
     "text": [
      "0\n"
     ]
    }
   ],
   "source": [
    "x = 0\n",
    "if x == 0:\n",
    "          print(x)"
   ]
  },
  {
   "cell_type": "code",
   "execution_count": 4,
   "metadata": {},
   "outputs": [],
   "source": [
    "class Parent:\n",
    "    parentAttr = 100\n",
    "    def __init__(self):\n",
    "        print(\"calling parent constructor\")\n",
    "    def parentMethod(self):\n",
    "        print(\"calling parent method\")\n",
    "    def setAttr(self,attr):\n",
    "        Parent.parentAttr = attr\n",
    "    def getAttr(self):\n",
    "        print(\"Parent attribute:\",Parent.parentAttr)\n",
    "class Child(Parent):\n",
    "    def __init(self):\n",
    "        print(\"Calling child constructor\")\n",
    "    def childMethod(self):\n",
    "        print(\"Calling child method\")"
   ]
  },
  {
   "cell_type": "code",
   "execution_count": 6,
   "metadata": {},
   "outputs": [
    {
     "output_type": "stream",
     "name": "stdout",
     "text": [
      "calling parent constructor\n"
     ]
    }
   ],
   "source": [
    "c = Child()\n",
    "\n"
   ]
  },
  {
   "cell_type": "code",
   "execution_count": 7,
   "metadata": {},
   "outputs": [
    {
     "output_type": "stream",
     "name": "stdout",
     "text": [
      "Calling child method\n"
     ]
    }
   ],
   "source": [
    "c.childMethod()"
   ]
  },
  {
   "cell_type": "code",
   "execution_count": 8,
   "metadata": {},
   "outputs": [
    {
     "output_type": "stream",
     "name": "stdout",
     "text": [
      "calling parent method\n"
     ]
    }
   ],
   "source": [
    "c.parentMethod()"
   ]
  },
  {
   "cell_type": "code",
   "execution_count": 9,
   "metadata": {},
   "outputs": [],
   "source": [
    "c.setAttr(200)"
   ]
  },
  {
   "cell_type": "code",
   "execution_count": 10,
   "metadata": {},
   "outputs": [
    {
     "output_type": "stream",
     "name": "stdout",
     "text": [
      "Parent attribute: 200\n"
     ]
    }
   ],
   "source": [
    "c.getAttr()"
   ]
  },
  {
   "cell_type": "code",
   "execution_count": 11,
   "metadata": {},
   "outputs": [
    {
     "output_type": "execute_result",
     "data": {
      "text/plain": [
       "True"
      ]
     },
     "metadata": {},
     "execution_count": 11
    }
   ],
   "source": [
    "isinstance(c,Parent)"
   ]
  },
  {
   "cell_type": "code",
   "execution_count": 12,
   "metadata": {},
   "outputs": [
    {
     "output_type": "error",
     "ename": "NameError",
     "evalue": "name 'sub' is not defined",
     "traceback": [
      "\u001b[1;31m---------------------------------------------------------------------------\u001b[0m",
      "\u001b[1;31mNameError\u001b[0m                                 Traceback (most recent call last)",
      "\u001b[1;32m<ipython-input-12-82c41c949d29>\u001b[0m in \u001b[0;36m<module>\u001b[1;34m\u001b[0m\n\u001b[1;32m----> 1\u001b[1;33m \u001b[0missubclass\u001b[0m\u001b[1;33m(\u001b[0m\u001b[0msub\u001b[0m\u001b[1;33m,\u001b[0m\u001b[0msup\u001b[0m\u001b[1;33m)\u001b[0m\u001b[1;33m\u001b[0m\u001b[1;33m\u001b[0m\u001b[0m\n\u001b[0m",
      "\u001b[1;31mNameError\u001b[0m: name 'sub' is not defined"
     ]
    }
   ],
   "source": [
    "issubclass(sub,sup)"
   ]
  },
  {
   "cell_type": "code",
   "execution_count": 15,
   "metadata": {},
   "outputs": [
    {
     "output_type": "stream",
     "name": "stdout",
     "text": [
      "22.000000\n"
     ]
    }
   ],
   "source": [
    "def  largestTriangle(base1,height1,base2,height2):\n",
    "    area = []\n",
    "    area1 = base1*height1/2\n",
    "    area.append(area1)\n",
    "    area2 = base2*height2/2\n",
    "    area.append(area2)\n",
    "    print(\"{0:.6f}\".format(max(area)))\n",
    "base1 = int(input())\n",
    "height1 = int(input())\n",
    "base2 = int(input())\n",
    "height2 = int(input())\n",
    "largestTriangle(base1,height1,base2,height2)"
   ]
  },
  {
   "cell_type": "code",
   "execution_count": 23,
   "metadata": {},
   "outputs": [],
   "source": [
    "def lostchar(strsent,strrev):\n",
    "    for i in strsent:\n",
    "        if not strrev.find(i):\n",
    "            print(i)\n",
    "strsent = list(input().split())\n",
    "strrev = input()\n",
    "lostchar(strsent,strrev)"
   ]
  },
  {
   "cell_type": "code",
   "execution_count": 9,
   "metadata": {},
   "outputs": [],
   "source": [
    "def lostchar(strsent,strrev):\n",
    "    for i in strsent:\n",
    "        if i not in strrev:\n",
    "            print(i) \n",
    "strsent = list(input())\n",
    "strrev = list(input())\n",
    "lostchar(strsent,strrev)"
   ]
  },
  {
   "cell_type": "code",
   "execution_count": 11,
   "metadata": {},
   "outputs": [
    {
     "output_type": "stream",
     "name": "stdout",
     "text": [
      "c\nd\n"
     ]
    }
   ],
   "source": [
    "from collections import Counter\n",
    "def lostchar(strsent,strrev):\n",
    "    strsent = Counter(strsent)\n",
    "    strrev = Counter(strrev)\n",
    "    for key, value in strsent.items():\n",
    "        if strsent[key] != strrev[key]:\n",
    "            print(key) \n",
    "strsent = list(input())\n",
    "strrev = list(input())\n",
    "lostchar(strsent,strrev)"
   ]
  },
  {
   "cell_type": "code",
   "execution_count": 16,
   "metadata": {},
   "outputs": [
    {
     "output_type": "error",
     "ename": "TypeError",
     "evalue": "'int' object is not iterable",
     "traceback": [
      "\u001b[1;31m---------------------------------------------------------------------------\u001b[0m",
      "\u001b[1;31mTypeError\u001b[0m                                 Traceback (most recent call last)",
      "\u001b[1;32m<ipython-input-16-4b3cf93ed03d>\u001b[0m in \u001b[0;36m<module>\u001b[1;34m\u001b[0m\n\u001b[1;32m----> 1\u001b[1;33m \u001b[0msum\u001b[0m\u001b[1;33m(\u001b[0m\u001b[0mlist\u001b[0m\u001b[1;33m(\u001b[0m\u001b[0mint\u001b[0m\u001b[1;33m(\u001b[0m\u001b[1;34m\"123\"\u001b[0m\u001b[1;33m)\u001b[0m\u001b[1;33m)\u001b[0m\u001b[1;33m)\u001b[0m\u001b[1;33m\u001b[0m\u001b[1;33m\u001b[0m\u001b[0m\n\u001b[0m",
      "\u001b[1;31mTypeError\u001b[0m: 'int' object is not iterable"
     ]
    }
   ],
   "source": []
  },
  {
   "cell_type": "code",
   "execution_count": 19,
   "metadata": {},
   "outputs": [
    {
     "output_type": "stream",
     "name": "stdout",
     "text": [
      "false\n"
     ]
    }
   ],
   "source": [
    "n = int(input())\n",
    "sum = 0\n",
    "number = n\n",
    "while number > 0:\n",
    "    sum += number % 10\n",
    "    number = number//10\n",
    "print(\"true\" if n % sum == 0 else \"false\")\n",
    "\n"
   ]
  },
  {
   "cell_type": "code",
   "execution_count": 25,
   "metadata": {},
   "outputs": [
    {
     "output_type": "stream",
     "name": "stdout",
     "text": [
      "0\n"
     ]
    }
   ],
   "source": [
    "mmm,aaa,nnn = [int(i) for i in input().split()]\n",
    "if (nnn*(nnn + 1)/2) * mmm >= aaa:\n",
    "    print(int(abs((nnn*(nnn + 1)/2) * mmm  - aaa)))\n",
    "else:\n",
    "    print(\"0\")"
   ]
  },
  {
   "cell_type": "code",
   "execution_count": 28,
   "metadata": {},
   "outputs": [
    {
     "output_type": "stream",
     "name": "stdout",
     "text": [
      "calling parent method \n"
     ]
    }
   ],
   "source": [
    "class Parent:\n",
    "    def mymethod(self):\n",
    "        print(\"calling parent method \")\n",
    "class Child(Parent):\n",
    "    def mymethod(self):\n",
    "        print(\"calling child method \")      \n",
    "c = Child()\n",
    "c.mymethod()  "
   ]
  },
  {
   "cell_type": "code",
   "execution_count": 30,
   "metadata": {},
   "outputs": [
    {
     "output_type": "execute_result",
     "data": {
      "text/plain": [
       "'some overloading methods:\\n__init__\\n__del__\\n__str__\\n__cmp__\\n'"
      ]
     },
     "metadata": {},
     "execution_count": 30
    }
   ],
   "source": [
    "'''some overloading methods:\n",
    "__init__\n",
    "__del__\n",
    "__str__\n",
    "__cmp__\n",
    "'''"
   ]
  },
  {
   "cell_type": "code",
   "execution_count": 31,
   "metadata": {},
   "outputs": [],
   "source": [
    "#overloading operators\n",
    "class vector:\n",
    "    def __init__(self,a,b):\n",
    "        self.a = a\n",
    "        self.b = b\n",
    "    def __str__(self):\n",
    "        return 'vector(%d,%d)'%(self.a,self.b)\n",
    "    def __add__(self,other):\n",
    "        return vector(self.a+other.a,self.b+other.b)\n"
   ]
  },
  {
   "cell_type": "code",
   "execution_count": 33,
   "metadata": {},
   "outputs": [
    {
     "output_type": "stream",
     "name": "stdout",
     "text": [
      "vector(7,12)\n"
     ]
    }
   ],
   "source": [
    "v1 = vector(2,10)\n",
    "v2 = vector(5,2)\n",
    "print(v1+v2)"
   ]
  },
  {
   "cell_type": "code",
   "execution_count": 37,
   "metadata": {},
   "outputs": [
    {
     "output_type": "stream",
     "name": "stdout",
     "text": [
      "1\n"
     ]
    }
   ],
   "source": [
    "#data hiding\n",
    "class justcounter:\n",
    "    __secretcounter = 0\n",
    "    def count(self):\n",
    "        self.__secretcounter += 1\n",
    "        print(self.__secretcounter)\n",
    "counter = justcounter()\n",
    "counter.count()\n"
   ]
  },
  {
   "cell_type": "code",
   "execution_count": 38,
   "metadata": {},
   "outputs": [
    {
     "output_type": "stream",
     "name": "stdout",
     "text": [
      "2\n"
     ]
    },
    {
     "output_type": "error",
     "ename": "AttributeError",
     "evalue": "type object 'justcounter' has no attribute '_secretcount'",
     "traceback": [
      "\u001b[1;31m---------------------------------------------------------------------------\u001b[0m",
      "\u001b[1;31mAttributeError\u001b[0m                            Traceback (most recent call last)",
      "\u001b[1;32m<ipython-input-38-6345f5bd2d5f>\u001b[0m in \u001b[0;36m<module>\u001b[1;34m\u001b[0m\n\u001b[0;32m      1\u001b[0m \u001b[0mcounter\u001b[0m\u001b[1;33m.\u001b[0m\u001b[0mcount\u001b[0m\u001b[1;33m(\u001b[0m\u001b[1;33m)\u001b[0m\u001b[1;33m\u001b[0m\u001b[1;33m\u001b[0m\u001b[0m\n\u001b[1;32m----> 2\u001b[1;33m \u001b[0mjustcounter\u001b[0m\u001b[1;33m.\u001b[0m\u001b[0m_secretcount\u001b[0m\u001b[1;33m\u001b[0m\u001b[1;33m\u001b[0m\u001b[0m\n\u001b[0m",
      "\u001b[1;31mAttributeError\u001b[0m: type object 'justcounter' has no attribute '_secretcount'"
     ]
    }
   ],
   "source": [
    "counter.count()\n",
    "justcounter._secretcount"
   ]
  },
  {
   "cell_type": "code",
   "execution_count": 40,
   "metadata": {},
   "outputs": [
    {
     "output_type": "execute_result",
     "data": {
      "text/plain": [
       "2"
      ]
     },
     "metadata": {},
     "execution_count": 40
    }
   ],
   "source": [
    "# still if you want use data variable then we want get class variable we can access using obname._classname__variablename\n",
    "counter._justcounter__secretcounter"
   ]
  },
  {
   "cell_type": "code",
   "execution_count": 50,
   "metadata": {},
   "outputs": [
    {
     "output_type": "error",
     "ename": "SyntaxError",
     "evalue": "invalid syntax (<ipython-input-50-80e700b37b38>, line 1)",
     "traceback": [
      "\u001b[1;36m  File \u001b[1;32m\"<ipython-input-50-80e700b37b38>\"\u001b[1;36m, line \u001b[1;32m1\u001b[0m\n\u001b[1;33m    mountain_series = list[*map(int,input().split())]\u001b[0m\n\u001b[1;37m                           ^\u001b[0m\n\u001b[1;31mSyntaxError\u001b[0m\u001b[1;31m:\u001b[0m invalid syntax\n"
     ]
    }
   ],
   "source": [
    " mountain_series = list[*map(int,input().split())]"
   ]
  },
  {
   "cell_type": "code",
   "execution_count": 49,
   "metadata": {},
   "outputs": [
    {
     "output_type": "execute_result",
     "data": {
      "text/plain": [
       "[1, 2, 3]"
      ]
     },
     "metadata": {},
     "execution_count": 49
    }
   ],
   "source": [
    "mountain_series"
   ]
  },
  {
   "cell_type": "code",
   "execution_count": 52,
   "metadata": {},
   "outputs": [
    {
     "output_type": "error",
     "ename": "ModuleNotFoundError",
     "evalue": "No module named 'num2words'",
     "traceback": [
      "\u001b[1;31m---------------------------------------------------------------------------\u001b[0m",
      "\u001b[1;31mModuleNotFoundError\u001b[0m                       Traceback (most recent call last)",
      "\u001b[1;32m<ipython-input-52-6b9b8f02a8f4>\u001b[0m in \u001b[0;36m<module>\u001b[1;34m\u001b[0m\n\u001b[1;32m----> 1\u001b[1;33m \u001b[1;32mfrom\u001b[0m \u001b[0mnum2words\u001b[0m \u001b[1;32mimport\u001b[0m \u001b[0mnum2words\u001b[0m\u001b[1;33m\u001b[0m\u001b[1;33m\u001b[0m\u001b[0m\n\u001b[0m\u001b[0;32m      2\u001b[0m \u001b[0mnum2words\u001b[0m\u001b[1;33m(\u001b[0m\u001b[1;36m4458\u001b[0m\u001b[1;33m,\u001b[0m\u001b[0mlang\u001b[0m \u001b[1;33m=\u001b[0m \u001b[1;34m'en'\u001b[0m\u001b[1;33m,\u001b[0m\u001b[0mto\u001b[0m \u001b[1;33m=\u001b[0m \u001b[1;34m\"ordinal\"\u001b[0m\u001b[1;33m)\u001b[0m\u001b[1;33m\u001b[0m\u001b[1;33m\u001b[0m\u001b[0m\n",
      "\u001b[1;31mModuleNotFoundError\u001b[0m: No module named 'num2words'"
     ]
    }
   ],
   "source": [
    "from num2words import num2words\n",
    "num2words(4458,lang = 'en',to = \"ordinal\")"
   ]
  },
  {
   "cell_type": "code",
   "execution_count": null,
   "metadata": {},
   "outputs": [],
   "source": [
    "import "
   ]
  }
 ]
}