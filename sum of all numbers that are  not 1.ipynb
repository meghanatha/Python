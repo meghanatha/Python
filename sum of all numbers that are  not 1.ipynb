{
 "cells": [
  {
   "cell_type": "code",
   "execution_count": null,
   "metadata": {},
   "outputs": [],
   "source": [
    "'''\n",
    "Question:\n",
    "john loves to play with grid games. We have to help him. He is playing with a\n",
    "square grid contain numbers.\n",
    "Each cell in the grid either 1 or 7. There is exactly C cells which contains 1, Find the sum of all numbers that are not 1\n",
    "Input\n",
    "Line : 1 C\n",
    "Line : 2 N\n",
    "N lines Grid\n",
    "Output\n",
    "The sum of all numbers that are not 1\n",
    "Constraints\n",
    "1 ≤ N ≤ 100\n",
    "0 ≤ C ≤ 10000\n",
    "Example\n",
    "Input\n",
    "4\n",
    "3\n",
    "1 7 1 \n",
    "1 1 7\n",
    "7 7 7\n",
    "o/p:\n",
    "35\n",
    "\n",
    "\n",
    "\n",
    "'''"
   ]
  },
  {
   "cell_type": "code",
   "execution_count": 1,
   "metadata": {},
   "outputs": [
    {
     "name": "stdout",
     "output_type": "stream",
     "text": [
      "4\n"
     ]
    }
   ],
   "source": [
    "cells_which_contains_one = int(input())"
   ]
  },
  {
   "cell_type": "code",
   "execution_count": 2,
   "metadata": {},
   "outputs": [
    {
     "name": "stdout",
     "output_type": "stream",
     "text": [
      "3\n"
     ]
    }
   ],
   "source": [
    "square_gird_containing_numbers = int(input())"
   ]
  },
  {
   "cell_type": "code",
   "execution_count": 3,
   "metadata": {},
   "outputs": [
    {
     "name": "stdout",
     "output_type": "stream",
     "text": [
      "35\n"
     ]
    }
   ],
   "source": [
    "print(((square_gird_containing_numbers*square_gird_containing_numbers)-(cells_which_contains_one))*7)"
   ]
  },
  {
   "cell_type": "code",
   "execution_count": null,
   "metadata": {},
   "outputs": [],
   "source": []
  }
 ],
 "metadata": {
  "kernelspec": {
   "display_name": "Python 3",
   "language": "python",
   "name": "python3"
  },
  "language_info": {
   "codemirror_mode": {
    "name": "ipython",
    "version": 3
   },
   "file_extension": ".py",
   "mimetype": "text/x-python",
   "name": "python",
   "nbconvert_exporter": "python",
   "pygments_lexer": "ipython3",
   "version": "3.7.3"
  }
 },
 "nbformat": 4,
 "nbformat_minor": 2
}
