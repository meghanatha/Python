{
 "cells": [
  {
   "cell_type": "code",
   "execution_count": 2,
   "metadata": {},
   "outputs": [
    {
     "name": "stdout",
     "output_type": "stream",
     "text": [
      "4\n",
      "1 3 5 89\n",
      "1\n",
      "2\n",
      "5\n",
      "1779979416004714189\n"
     ]
    }
   ],
   "source": [
    "n=input()\n",
    "\n",
    "fib=[]\n",
    "fib.append(0)\n",
    "fib.append(1)\n",
    "for i in range(2,91):\n",
    "    fib.append(fib[-1]+fib[-2])\n",
    "    \n",
    "for i in input().split():\n",
    "    ind=int(i)\n",
    "    print(fib[ind])"
   ]
  },
  {
   "cell_type": "code",
   "execution_count": null,
   "metadata": {},
   "outputs": [],
   "source": []
  }
 ],
 "metadata": {
  "kernelspec": {
   "display_name": "Python 3",
   "language": "python",
   "name": "python3"
  },
  "language_info": {
   "codemirror_mode": {
    "name": "ipython",
    "version": 3
   },
   "file_extension": ".py",
   "mimetype": "text/x-python",
   "name": "python",
   "nbconvert_exporter": "python",
   "pygments_lexer": "ipython3",
   "version": "3.7.3"
  }
 },
 "nbformat": 4,
 "nbformat_minor": 2
}
